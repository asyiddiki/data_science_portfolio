{
 "cells": [
  {
   "cell_type": "markdown",
   "metadata": {
    "id": "0pbG3zwtbPpv"
   },
   "source": [
    "<center><img src=\"https://www.megabagus.id/wp-content/uploads/2024/06/Bootcamp-Data-Science.png\" alt=\"Bootcamp-Data-Science\" border=\"0\">"
   ]
  },
  {
   "cell_type": "markdown",
   "metadata": {
    "id": "IKFeDjB4bPpw"
   },
   "source": [
    "# Modul 25 - Portfolio Klasifikasi\n",
    "Mentor: Mega Bagus Herlambang, PhD"
   ]
  },
  {
   "cell_type": "markdown",
   "metadata": {
    "id": "KDcJv3KRQU3a"
   },
   "source": [
    "<hr>"
   ]
  },
  {
   "cell_type": "code",
   "execution_count": 663,
   "metadata": {
    "id": "91XmbFWS-DBK"
   },
   "outputs": [],
   "source": [
    "# Mengimpor library\n",
    "import os\n",
    "import numpy as np\n",
    "import pandas as pd\n",
    "import matplotlib.pyplot as plt\n",
    "import seaborn as sns\n",
    "import shap\n",
    "\n",
    "from sklearn.compose import ColumnTransformer\n",
    "from sklearn.pipeline import Pipeline\n",
    "from sklearn.impute import SimpleImputer\n",
    "from sklearn.preprocessing import MinMaxScaler, OneHotEncoder\n",
    "\n",
    "from sklearn.linear_model import LogisticRegression, SGDClassifier\n",
    "from sklearn.tree import DecisionTreeClassifier\n",
    "from sklearn.svm import SVC\n",
    "from sklearn.neighbors import KNeighborsClassifier\n",
    "from sklearn.gaussian_process import GaussianProcessClassifier\n",
    "from sklearn.naive_bayes import GaussianNB\n",
    "from sklearn.ensemble import RandomForestClassifier\n",
    "from sklearn.ensemble import AdaBoostClassifier\n",
    "from sklearn.ensemble import GradientBoostingClassifier\n",
    "from xgboost import XGBClassifier\n",
    "from sklearn.neural_network import MLPClassifier\n",
    "from sklearn.inspection import permutation_importance\n",
    "\n",
    "from sklearn.model_selection import train_test_split, cross_val_score, GridSearchCV, StratifiedKFold\n",
    "\n",
    "from sklearn.metrics import confusion_matrix, classification_report, ConfusionMatrixDisplay, precision_score, recall_score, f1_score, accuracy_score, roc_auc_score"
   ]
  },
  {
   "cell_type": "code",
   "execution_count": 665,
   "metadata": {
    "id": "7FYkJN2F-DBK"
   },
   "outputs": [],
   "source": [
    "# Menghilangkan warning\n",
    "import warnings\n",
    "warnings.filterwarnings(\"ignore\")"
   ]
  },
  {
   "cell_type": "markdown",
   "metadata": {
    "id": "NXSyvU2s-DBK"
   },
   "source": [
    "Sumber data: https://www.kaggle.com/datasets/uciml/pima-indians-diabetes-database"
   ]
  },
  {
   "cell_type": "markdown",
   "metadata": {
    "id": "k5WvRgtt-DBK"
   },
   "source": [
    "**Informasi data**:<br>\n",
    "Several constraints were placed on the selection of these instances from a larger database. <br>\n",
    "In particular, all patients here are females at least 21 years old of Pima Indian heritage.\n",
    "\n",
    "- Pregnancies: Number of times pregnant\n",
    "- Glucose: Plasma glucose concentration a 2 hours in an oral glucose tolerance test\n",
    "- BloodPressure: Diastolic blood pressure (mm Hg)\n",
    "- SkinThickness: Triceps skin fold thickness (mm)\n",
    "- Insulin: 2-Hour serum insulin (mu U/ml)\n",
    "- BMI: Body mass index (weight in kg/(height in m)^2)\n",
    "- DiabetesPedigreeFunction: Diabetes pedigree function\n",
    "- Age: Age (years)\n",
    "- Outcome: Class variable (0 or 1)\n",
    "\n",
    "Sources:\n",
    "\n",
    "(a) Original owners: National Institute of Diabetes and Digestive and\n",
    "Kidney Diseases\n",
    "\n",
    "(b) Donor of database: Vincent Sigillito (vgs@aplcen.apl.jhu.edu)<br>\n",
    "Research Center, RMI Group Leader<br>\n",
    "Applied Physics Laboratory<br>\n",
    "The Johns Hopkins University<br>\n",
    "Johns Hopkins Road<br>\n",
    "Laurel, MD 20707<br>\n",
    "(301) 953-6231<br>\n",
    "(c) Date received: 9 May 1990"
   ]
  },
  {
   "cell_type": "markdown",
   "metadata": {
    "id": "7lWCUxW7-DBL"
   },
   "source": [
    "### Edit ketiga item di bawah ini:"
   ]
  },
  {
   "cell_type": "code",
   "execution_count": 670,
   "metadata": {
    "id": "MBv-UHka-DBL"
   },
   "outputs": [],
   "source": [
    "# Tentukan nama file, target, dan jumlah fold untuk cross validation\n",
    "\n",
    "# Tulis nama file di sini lengkap dengan extension-nya dalam format string\n",
    "nama_file = 'hr-analytics.csv'\n",
    "\n",
    "# Tulis nama variabel targetnya dalam format string\n",
    "target = 'target'\n",
    "\n",
    "# Tulis jumlah fold (integer) untuk cross validation\n",
    "cv = 5"
   ]
  },
  {
   "cell_type": "code",
   "execution_count": 671,
   "metadata": {
    "colab": {
     "base_uri": "https://localhost:8080/",
     "height": 206
    },
    "id": "-xy6RK6V-DBL",
    "outputId": "7ec7ca94-d073-4f17-ae35-08d956f34fd0"
   },
   "outputs": [
    {
     "data": {
      "text/html": [
       "<div>\n",
       "<style scoped>\n",
       "    .dataframe tbody tr th:only-of-type {\n",
       "        vertical-align: middle;\n",
       "    }\n",
       "\n",
       "    .dataframe tbody tr th {\n",
       "        vertical-align: top;\n",
       "    }\n",
       "\n",
       "    .dataframe thead th {\n",
       "        text-align: right;\n",
       "    }\n",
       "</style>\n",
       "<table border=\"1\" class=\"dataframe\">\n",
       "  <thead>\n",
       "    <tr style=\"text-align: right;\">\n",
       "      <th></th>\n",
       "      <th>enrollee_id</th>\n",
       "      <th>city</th>\n",
       "      <th>city_development_index</th>\n",
       "      <th>gender</th>\n",
       "      <th>relevent_experience</th>\n",
       "      <th>enrolled_university</th>\n",
       "      <th>education_level</th>\n",
       "      <th>major_discipline</th>\n",
       "      <th>experience</th>\n",
       "      <th>company_size</th>\n",
       "      <th>company_type</th>\n",
       "      <th>last_new_job</th>\n",
       "      <th>training_hours</th>\n",
       "      <th>target</th>\n",
       "    </tr>\n",
       "  </thead>\n",
       "  <tbody>\n",
       "    <tr>\n",
       "      <th>0</th>\n",
       "      <td>8949</td>\n",
       "      <td>city_103</td>\n",
       "      <td>0.920</td>\n",
       "      <td>Male</td>\n",
       "      <td>Has relevent experience</td>\n",
       "      <td>no_enrollment</td>\n",
       "      <td>Graduate</td>\n",
       "      <td>STEM</td>\n",
       "      <td>&gt;20</td>\n",
       "      <td>NaN</td>\n",
       "      <td>NaN</td>\n",
       "      <td>1</td>\n",
       "      <td>36</td>\n",
       "      <td>1.0</td>\n",
       "    </tr>\n",
       "    <tr>\n",
       "      <th>1</th>\n",
       "      <td>29725</td>\n",
       "      <td>city_40</td>\n",
       "      <td>0.776</td>\n",
       "      <td>Male</td>\n",
       "      <td>No relevent experience</td>\n",
       "      <td>no_enrollment</td>\n",
       "      <td>Graduate</td>\n",
       "      <td>STEM</td>\n",
       "      <td>15</td>\n",
       "      <td>50-99</td>\n",
       "      <td>Pvt Ltd</td>\n",
       "      <td>&gt;4</td>\n",
       "      <td>47</td>\n",
       "      <td>0.0</td>\n",
       "    </tr>\n",
       "    <tr>\n",
       "      <th>2</th>\n",
       "      <td>11561</td>\n",
       "      <td>city_21</td>\n",
       "      <td>0.624</td>\n",
       "      <td>NaN</td>\n",
       "      <td>No relevent experience</td>\n",
       "      <td>Full time course</td>\n",
       "      <td>Graduate</td>\n",
       "      <td>STEM</td>\n",
       "      <td>5</td>\n",
       "      <td>NaN</td>\n",
       "      <td>NaN</td>\n",
       "      <td>never</td>\n",
       "      <td>83</td>\n",
       "      <td>0.0</td>\n",
       "    </tr>\n",
       "    <tr>\n",
       "      <th>3</th>\n",
       "      <td>33241</td>\n",
       "      <td>city_115</td>\n",
       "      <td>0.789</td>\n",
       "      <td>NaN</td>\n",
       "      <td>No relevent experience</td>\n",
       "      <td>NaN</td>\n",
       "      <td>Graduate</td>\n",
       "      <td>Business Degree</td>\n",
       "      <td>&lt;1</td>\n",
       "      <td>NaN</td>\n",
       "      <td>Pvt Ltd</td>\n",
       "      <td>never</td>\n",
       "      <td>52</td>\n",
       "      <td>1.0</td>\n",
       "    </tr>\n",
       "    <tr>\n",
       "      <th>4</th>\n",
       "      <td>666</td>\n",
       "      <td>city_162</td>\n",
       "      <td>0.767</td>\n",
       "      <td>Male</td>\n",
       "      <td>Has relevent experience</td>\n",
       "      <td>no_enrollment</td>\n",
       "      <td>Masters</td>\n",
       "      <td>STEM</td>\n",
       "      <td>&gt;20</td>\n",
       "      <td>50-99</td>\n",
       "      <td>Funded Startup</td>\n",
       "      <td>4</td>\n",
       "      <td>8</td>\n",
       "      <td>0.0</td>\n",
       "    </tr>\n",
       "  </tbody>\n",
       "</table>\n",
       "</div>"
      ],
      "text/plain": [
       "   enrollee_id      city  city_development_index gender  \\\n",
       "0         8949  city_103                   0.920   Male   \n",
       "1        29725   city_40                   0.776   Male   \n",
       "2        11561   city_21                   0.624    NaN   \n",
       "3        33241  city_115                   0.789    NaN   \n",
       "4          666  city_162                   0.767   Male   \n",
       "\n",
       "       relevent_experience enrolled_university education_level  \\\n",
       "0  Has relevent experience       no_enrollment        Graduate   \n",
       "1   No relevent experience       no_enrollment        Graduate   \n",
       "2   No relevent experience    Full time course        Graduate   \n",
       "3   No relevent experience                 NaN        Graduate   \n",
       "4  Has relevent experience       no_enrollment         Masters   \n",
       "\n",
       "  major_discipline experience company_size    company_type last_new_job  \\\n",
       "0             STEM        >20          NaN             NaN            1   \n",
       "1             STEM         15        50-99         Pvt Ltd           >4   \n",
       "2             STEM          5          NaN             NaN        never   \n",
       "3  Business Degree         <1          NaN         Pvt Ltd        never   \n",
       "4             STEM        >20        50-99  Funded Startup            4   \n",
       "\n",
       "   training_hours  target  \n",
       "0              36     1.0  \n",
       "1              47     0.0  \n",
       "2              83     0.0  \n",
       "3              52     1.0  \n",
       "4               8     0.0  "
      ]
     },
     "execution_count": 671,
     "metadata": {},
     "output_type": "execute_result"
    }
   ],
   "source": [
    "# Load dataset\n",
    "df = pd.read_csv(nama_file)\n",
    "\n",
    "# Melihat tampilan dataset\n",
    "df.head() # df.head(10)"
   ]
  },
  {
   "cell_type": "code",
   "execution_count": 672,
   "metadata": {
    "colab": {
     "base_uri": "https://localhost:8080/",
     "height": 206
    },
    "id": "DbjMLQeLF-tN",
    "outputId": "b26c220b-cb4a-418b-aa32-7aff6f1bf8d4"
   },
   "outputs": [
    {
     "data": {
      "text/html": [
       "<div>\n",
       "<style scoped>\n",
       "    .dataframe tbody tr th:only-of-type {\n",
       "        vertical-align: middle;\n",
       "    }\n",
       "\n",
       "    .dataframe tbody tr th {\n",
       "        vertical-align: top;\n",
       "    }\n",
       "\n",
       "    .dataframe thead th {\n",
       "        text-align: right;\n",
       "    }\n",
       "</style>\n",
       "<table border=\"1\" class=\"dataframe\">\n",
       "  <thead>\n",
       "    <tr style=\"text-align: right;\">\n",
       "      <th></th>\n",
       "      <th>enrollee_id</th>\n",
       "      <th>city</th>\n",
       "      <th>city_development_index</th>\n",
       "      <th>gender</th>\n",
       "      <th>relevent_experience</th>\n",
       "      <th>enrolled_university</th>\n",
       "      <th>education_level</th>\n",
       "      <th>major_discipline</th>\n",
       "      <th>experience</th>\n",
       "      <th>company_size</th>\n",
       "      <th>company_type</th>\n",
       "      <th>last_new_job</th>\n",
       "      <th>training_hours</th>\n",
       "      <th>target</th>\n",
       "    </tr>\n",
       "  </thead>\n",
       "  <tbody>\n",
       "    <tr>\n",
       "      <th>19153</th>\n",
       "      <td>7386</td>\n",
       "      <td>city_173</td>\n",
       "      <td>0.878</td>\n",
       "      <td>Male</td>\n",
       "      <td>No relevent experience</td>\n",
       "      <td>no_enrollment</td>\n",
       "      <td>Graduate</td>\n",
       "      <td>Humanities</td>\n",
       "      <td>14</td>\n",
       "      <td>NaN</td>\n",
       "      <td>NaN</td>\n",
       "      <td>1</td>\n",
       "      <td>42</td>\n",
       "      <td>1.0</td>\n",
       "    </tr>\n",
       "    <tr>\n",
       "      <th>19154</th>\n",
       "      <td>31398</td>\n",
       "      <td>city_103</td>\n",
       "      <td>0.920</td>\n",
       "      <td>Male</td>\n",
       "      <td>Has relevent experience</td>\n",
       "      <td>no_enrollment</td>\n",
       "      <td>Graduate</td>\n",
       "      <td>STEM</td>\n",
       "      <td>14</td>\n",
       "      <td>NaN</td>\n",
       "      <td>NaN</td>\n",
       "      <td>4</td>\n",
       "      <td>52</td>\n",
       "      <td>1.0</td>\n",
       "    </tr>\n",
       "    <tr>\n",
       "      <th>19155</th>\n",
       "      <td>24576</td>\n",
       "      <td>city_103</td>\n",
       "      <td>0.920</td>\n",
       "      <td>Male</td>\n",
       "      <td>Has relevent experience</td>\n",
       "      <td>no_enrollment</td>\n",
       "      <td>Graduate</td>\n",
       "      <td>STEM</td>\n",
       "      <td>&gt;20</td>\n",
       "      <td>50-99</td>\n",
       "      <td>Pvt Ltd</td>\n",
       "      <td>4</td>\n",
       "      <td>44</td>\n",
       "      <td>0.0</td>\n",
       "    </tr>\n",
       "    <tr>\n",
       "      <th>19156</th>\n",
       "      <td>5756</td>\n",
       "      <td>city_65</td>\n",
       "      <td>0.802</td>\n",
       "      <td>Male</td>\n",
       "      <td>Has relevent experience</td>\n",
       "      <td>no_enrollment</td>\n",
       "      <td>High School</td>\n",
       "      <td>NaN</td>\n",
       "      <td>&lt;1</td>\n",
       "      <td>500-999</td>\n",
       "      <td>Pvt Ltd</td>\n",
       "      <td>2</td>\n",
       "      <td>97</td>\n",
       "      <td>0.0</td>\n",
       "    </tr>\n",
       "    <tr>\n",
       "      <th>19157</th>\n",
       "      <td>23834</td>\n",
       "      <td>city_67</td>\n",
       "      <td>0.855</td>\n",
       "      <td>NaN</td>\n",
       "      <td>No relevent experience</td>\n",
       "      <td>no_enrollment</td>\n",
       "      <td>Primary School</td>\n",
       "      <td>NaN</td>\n",
       "      <td>2</td>\n",
       "      <td>NaN</td>\n",
       "      <td>NaN</td>\n",
       "      <td>1</td>\n",
       "      <td>127</td>\n",
       "      <td>0.0</td>\n",
       "    </tr>\n",
       "  </tbody>\n",
       "</table>\n",
       "</div>"
      ],
      "text/plain": [
       "       enrollee_id      city  city_development_index gender  \\\n",
       "19153         7386  city_173                   0.878   Male   \n",
       "19154        31398  city_103                   0.920   Male   \n",
       "19155        24576  city_103                   0.920   Male   \n",
       "19156         5756   city_65                   0.802   Male   \n",
       "19157        23834   city_67                   0.855    NaN   \n",
       "\n",
       "           relevent_experience enrolled_university education_level  \\\n",
       "19153   No relevent experience       no_enrollment        Graduate   \n",
       "19154  Has relevent experience       no_enrollment        Graduate   \n",
       "19155  Has relevent experience       no_enrollment        Graduate   \n",
       "19156  Has relevent experience       no_enrollment     High School   \n",
       "19157   No relevent experience       no_enrollment  Primary School   \n",
       "\n",
       "      major_discipline experience company_size company_type last_new_job  \\\n",
       "19153       Humanities         14          NaN          NaN            1   \n",
       "19154             STEM         14          NaN          NaN            4   \n",
       "19155             STEM        >20        50-99      Pvt Ltd            4   \n",
       "19156              NaN         <1      500-999      Pvt Ltd            2   \n",
       "19157              NaN          2          NaN          NaN            1   \n",
       "\n",
       "       training_hours  target  \n",
       "19153              42     1.0  \n",
       "19154              52     1.0  \n",
       "19155              44     0.0  \n",
       "19156              97     0.0  \n",
       "19157             127     0.0  "
      ]
     },
     "execution_count": 672,
     "metadata": {},
     "output_type": "execute_result"
    }
   ],
   "source": [
    "# Untuk melihat data akhir\n",
    "df.tail() # df.tail(10)"
   ]
  },
  {
   "cell_type": "code",
   "execution_count": 673,
   "metadata": {},
   "outputs": [],
   "source": [
    "# Merubah nama kolom (pastikan tidak ada salah ketik nama kolom)\n",
    "#df.rename(columns={'Age': 'Usia', \n",
    "                   #'Sex': 'Jenis Kelamin',\n",
    "                   #'BP': 'Tekanan darah',\n",
    "                   #'Cholesterol':'Kolestrol',\n",
    "                   #'Na_to_K': 'Sodium to Pottasiom',\n",
    "                   #'Drug': 'Drug Type'}, inplace=True)"
   ]
  },
  {
   "cell_type": "code",
   "execution_count": 674,
   "metadata": {
    "id": "VdyAd3hr_027"
   },
   "outputs": [],
   "source": [
    "# Kita buang kolom UserID\n",
    "df.drop(['enrollee_id'], axis=1, inplace=True)"
   ]
  },
  {
   "cell_type": "code",
   "execution_count": 675,
   "metadata": {
    "colab": {
     "base_uri": "https://localhost:8080/",
     "height": 907
    },
    "id": "gfP8CnfwNg_G",
    "outputId": "a308dc6e-ae55-4bb2-987c-7bfde85d84d3"
   },
   "outputs": [
    {
     "data": {
      "image/png": "[encoded data removed]",
      "text/plain": [
       "<Figure size 900x900 with 4 Axes>"
      ]
     },
     "metadata": {},
     "output_type": "display_data"
    }
   ],
   "source": [
    "# Untuk visualisasi numerik berupa histogram agar kita bisa melihat apakah ada data yg outlier\n",
    "# Melakukan plotting histogram untuk melihat distribusi data bertipe numerik (selain kolom 'Id')\n",
    "df.hist(bins=40, column=[var for var in df.columns if var != 'Id'], grid=False, figsize=(9, 9))\n",
    "plt.tight_layout()\n",
    "plt.show()"
   ]
  },
  {
   "cell_type": "code",
   "execution_count": 677,
   "metadata": {
    "colab": {
     "base_uri": "https://localhost:8080/",
     "height": 300
    },
    "id": "vP1FWVUxFXoG",
    "outputId": "71d1861a-952f-444f-dfbc-791911e9806b"
   },
   "outputs": [
    {
     "data": {
      "text/html": [
       "<div>\n",
       "<style scoped>\n",
       "    .dataframe tbody tr th:only-of-type {\n",
       "        vertical-align: middle;\n",
       "    }\n",
       "\n",
       "    .dataframe tbody tr th {\n",
       "        vertical-align: top;\n",
       "    }\n",
       "\n",
       "    .dataframe thead th {\n",
       "        text-align: right;\n",
       "    }\n",
       "</style>\n",
       "<table border=\"1\" class=\"dataframe\">\n",
       "  <thead>\n",
       "    <tr style=\"text-align: right;\">\n",
       "      <th></th>\n",
       "      <th>city_development_index</th>\n",
       "      <th>training_hours</th>\n",
       "      <th>target</th>\n",
       "    </tr>\n",
       "  </thead>\n",
       "  <tbody>\n",
       "    <tr>\n",
       "      <th>count</th>\n",
       "      <td>19158.000000</td>\n",
       "      <td>19158.000000</td>\n",
       "      <td>19158.000000</td>\n",
       "    </tr>\n",
       "    <tr>\n",
       "      <th>mean</th>\n",
       "      <td>0.828848</td>\n",
       "      <td>65.366896</td>\n",
       "      <td>0.249348</td>\n",
       "    </tr>\n",
       "    <tr>\n",
       "      <th>std</th>\n",
       "      <td>0.123362</td>\n",
       "      <td>60.058462</td>\n",
       "      <td>0.432647</td>\n",
       "    </tr>\n",
       "    <tr>\n",
       "      <th>min</th>\n",
       "      <td>0.448000</td>\n",
       "      <td>1.000000</td>\n",
       "      <td>0.000000</td>\n",
       "    </tr>\n",
       "    <tr>\n",
       "      <th>25%</th>\n",
       "      <td>0.740000</td>\n",
       "      <td>23.000000</td>\n",
       "      <td>0.000000</td>\n",
       "    </tr>\n",
       "    <tr>\n",
       "      <th>50%</th>\n",
       "      <td>0.903000</td>\n",
       "      <td>47.000000</td>\n",
       "      <td>0.000000</td>\n",
       "    </tr>\n",
       "    <tr>\n",
       "      <th>75%</th>\n",
       "      <td>0.920000</td>\n",
       "      <td>88.000000</td>\n",
       "      <td>0.000000</td>\n",
       "    </tr>\n",
       "    <tr>\n",
       "      <th>max</th>\n",
       "      <td>0.949000</td>\n",
       "      <td>336.000000</td>\n",
       "      <td>1.000000</td>\n",
       "    </tr>\n",
       "  </tbody>\n",
       "</table>\n",
       "</div>"
      ],
      "text/plain": [
       "       city_development_index  training_hours        target\n",
       "count            19158.000000    19158.000000  19158.000000\n",
       "mean                 0.828848       65.366896      0.249348\n",
       "std                  0.123362       60.058462      0.432647\n",
       "min                  0.448000        1.000000      0.000000\n",
       "25%                  0.740000       23.000000      0.000000\n",
       "50%                  0.903000       47.000000      0.000000\n",
       "75%                  0.920000       88.000000      0.000000\n",
       "max                  0.949000      336.000000      1.000000"
      ]
     },
     "execution_count": 677,
     "metadata": {},
     "output_type": "execute_result"
    }
   ],
   "source": [
    "df.describe()"
   ]
  },
  {
   "cell_type": "code",
   "execution_count": 682,
   "metadata": {
    "colab": {
     "base_uri": "https://localhost:8080/"
    },
    "id": "c8n5rcE9-DBL",
    "outputId": "69e93538-0a00-4049-bd3a-a6fcb85ede8b"
   },
   "outputs": [
    {
     "name": "stdout",
     "output_type": "stream",
     "text": [
      "<class 'pandas.core.frame.DataFrame'>\n",
      "RangeIndex: 19158 entries, 0 to 19157\n",
      "Data columns (total 13 columns):\n",
      " #   Column                  Non-Null Count  Dtype  \n",
      "---  ------                  --------------  -----  \n",
      " 0   city                    19158 non-null  object \n",
      " 1   city_development_index  19158 non-null  float64\n",
      " 2   gender                  14650 non-null  object \n",
      " 3   relevent_experience     19158 non-null  object \n",
      " 4   enrolled_university     18772 non-null  object \n",
      " 5   education_level         18698 non-null  object \n",
      " 6   major_discipline        16345 non-null  object \n",
      " 7   experience              19093 non-null  object \n",
      " 8   company_size            13220 non-null  object \n",
      " 9   company_type            13018 non-null  object \n",
      " 10  last_new_job            18735 non-null  object \n",
      " 11  training_hours          19158 non-null  int64  \n",
      " 12  target                  19158 non-null  float64\n",
      "dtypes: float64(2), int64(1), object(10)\n",
      "memory usage: 1.9+ MB\n"
     ]
    }
   ],
   "source": [
    "# Kita lihat ringkasan data\n",
    "df.info()"
   ]
  },
  {
   "cell_type": "code",
   "execution_count": 683,
   "metadata": {
    "colab": {
     "base_uri": "https://localhost:8080/",
     "height": 492
    },
    "id": "6rMrxRemklAu",
    "outputId": "d9ba0aa4-f49f-4b44-b8a9-702dd468eb16"
   },
   "outputs": [
    {
     "data": {
      "text/plain": [
       "city                         0\n",
       "city_development_index       0\n",
       "gender                    4508\n",
       "relevent_experience          0\n",
       "enrolled_university        386\n",
       "education_level            460\n",
       "major_discipline          2813\n",
       "experience                  65\n",
       "company_size              5938\n",
       "company_type              6140\n",
       "last_new_job               423\n",
       "training_hours               0\n",
       "target                       0\n",
       "dtype: int64"
      ]
     },
     "execution_count": 683,
     "metadata": {},
     "output_type": "execute_result"
    }
   ],
   "source": [
    "# Untuk melihat berapa baris yang kosong/NaN\n",
    "#df.isna().sum()\n",
    "jumlah = df.isnull().sum()\n",
    "jumlah"
   ]
  },
  {
   "cell_type": "code",
   "execution_count": 686,
   "metadata": {},
   "outputs": [
    {
     "data": {
      "text/plain": [
       "city                      0.000000\n",
       "city_development_index    0.000000\n",
       "gender                    0.235306\n",
       "relevent_experience       0.000000\n",
       "enrolled_university       0.020148\n",
       "education_level           0.024011\n",
       "major_discipline          0.146832\n",
       "experience                0.003393\n",
       "company_size              0.309949\n",
       "company_type              0.320493\n",
       "last_new_job              0.022080\n",
       "training_hours            0.000000\n",
       "target                    0.000000\n",
       "dtype: float64"
      ]
     },
     "execution_count": 686,
     "metadata": {},
     "output_type": "execute_result"
    }
   ],
   "source": [
    "# Mengecek data kosong berdasarkan persen (%)\n",
    "df.isnull().mean()"
   ]
  },
  {
   "cell_type": "code",
   "execution_count": 690,
   "metadata": {
    "colab": {
     "base_uri": "https://localhost:8080/",
     "height": 492
    },
    "id": "Etz5LLRIsOh4",
    "outputId": "301a04ae-b5f7-44af-ecf6-19bcfe534aed"
   },
   "outputs": [
    {
     "data": {
      "text/plain": [
       "city                      0.000000\n",
       "city_development_index    0.000000\n",
       "gender                    0.235306\n",
       "relevent_experience       0.000000\n",
       "enrolled_university       0.020148\n",
       "education_level           0.024011\n",
       "major_discipline          0.146832\n",
       "experience                0.003393\n",
       "company_size              0.309949\n",
       "company_type              0.320493\n",
       "last_new_job              0.022080\n",
       "training_hours            0.000000\n",
       "target                    0.000000\n",
       "dtype: float64"
      ]
     },
     "execution_count": 690,
     "metadata": {},
     "output_type": "execute_result"
    }
   ],
   "source": [
    "from numbers import Rational\n",
    "# Mengecek data kosong berdasarkan persen (%)\n",
    "rata2 = df.isnull().mean()\n",
    "rata2"
   ]
  },
  {
   "cell_type": "code",
   "execution_count": 692,
   "metadata": {},
   "outputs": [
    {
     "data": {
      "text/html": [
       "<div>\n",
       "<style scoped>\n",
       "    .dataframe tbody tr th:only-of-type {\n",
       "        vertical-align: middle;\n",
       "    }\n",
       "\n",
       "    .dataframe tbody tr th {\n",
       "        vertical-align: top;\n",
       "    }\n",
       "\n",
       "    .dataframe thead th {\n",
       "        text-align: right;\n",
       "    }\n",
       "</style>\n",
       "<table border=\"1\" class=\"dataframe\">\n",
       "  <thead>\n",
       "    <tr style=\"text-align: right;\">\n",
       "      <th></th>\n",
       "      <th>Total</th>\n",
       "      <th>Percent</th>\n",
       "    </tr>\n",
       "  </thead>\n",
       "  <tbody>\n",
       "    <tr>\n",
       "      <th>company_type</th>\n",
       "      <td>6140</td>\n",
       "      <td>0.320493</td>\n",
       "    </tr>\n",
       "    <tr>\n",
       "      <th>company_size</th>\n",
       "      <td>5938</td>\n",
       "      <td>0.309949</td>\n",
       "    </tr>\n",
       "    <tr>\n",
       "      <th>gender</th>\n",
       "      <td>4508</td>\n",
       "      <td>0.235306</td>\n",
       "    </tr>\n",
       "    <tr>\n",
       "      <th>major_discipline</th>\n",
       "      <td>2813</td>\n",
       "      <td>0.146832</td>\n",
       "    </tr>\n",
       "    <tr>\n",
       "      <th>education_level</th>\n",
       "      <td>460</td>\n",
       "      <td>0.024011</td>\n",
       "    </tr>\n",
       "    <tr>\n",
       "      <th>last_new_job</th>\n",
       "      <td>423</td>\n",
       "      <td>0.022080</td>\n",
       "    </tr>\n",
       "    <tr>\n",
       "      <th>enrolled_university</th>\n",
       "      <td>386</td>\n",
       "      <td>0.020148</td>\n",
       "    </tr>\n",
       "    <tr>\n",
       "      <th>experience</th>\n",
       "      <td>65</td>\n",
       "      <td>0.003393</td>\n",
       "    </tr>\n",
       "    <tr>\n",
       "      <th>city</th>\n",
       "      <td>0</td>\n",
       "      <td>0.000000</td>\n",
       "    </tr>\n",
       "    <tr>\n",
       "      <th>city_development_index</th>\n",
       "      <td>0</td>\n",
       "      <td>0.000000</td>\n",
       "    </tr>\n",
       "    <tr>\n",
       "      <th>relevent_experience</th>\n",
       "      <td>0</td>\n",
       "      <td>0.000000</td>\n",
       "    </tr>\n",
       "    <tr>\n",
       "      <th>training_hours</th>\n",
       "      <td>0</td>\n",
       "      <td>0.000000</td>\n",
       "    </tr>\n",
       "    <tr>\n",
       "      <th>target</th>\n",
       "      <td>0</td>\n",
       "      <td>0.000000</td>\n",
       "    </tr>\n",
       "  </tbody>\n",
       "</table>\n",
       "</div>"
      ],
      "text/plain": [
       "                        Total   Percent\n",
       "company_type             6140  0.320493\n",
       "company_size             5938  0.309949\n",
       "gender                   4508  0.235306\n",
       "major_discipline         2813  0.146832\n",
       "education_level           460  0.024011\n",
       "last_new_job              423  0.022080\n",
       "enrolled_university       386  0.020148\n",
       "experience                 65  0.003393\n",
       "city                        0  0.000000\n",
       "city_development_index      0  0.000000\n",
       "relevent_experience         0  0.000000\n",
       "training_hours              0  0.000000\n",
       "target                      0  0.000000"
      ]
     },
     "execution_count": 692,
     "metadata": {},
     "output_type": "execute_result"
    }
   ],
   "source": [
    "#Melihat total data kosong/baris dan berapa persen %\n",
    "total = df.isnull().sum().sort_values(ascending=False)\n",
    "percent = (df.isnull().sum()/df.isnull().count()).sort_values(ascending=False)\n",
    "missing_data = pd.concat([total, percent], axis=1, keys=['Total', 'Percent'])\n",
    "missing_data.head(20)"
   ]
  },
  {
   "cell_type": "code",
   "execution_count": 694,
   "metadata": {
    "colab": {
     "base_uri": "https://localhost:8080/",
     "height": 457
    },
    "id": "G-IIY0izsuvh",
    "outputId": "36eab09f-78cc-4cdc-f97b-005ae4f8a74c"
   },
   "outputs": [
    {
     "data": {
      "text/html": [
       "<div>\n",
       "<style scoped>\n",
       "    .dataframe tbody tr th:only-of-type {\n",
       "        vertical-align: middle;\n",
       "    }\n",
       "\n",
       "    .dataframe tbody tr th {\n",
       "        vertical-align: top;\n",
       "    }\n",
       "\n",
       "    .dataframe thead th {\n",
       "        text-align: right;\n",
       "    }\n",
       "</style>\n",
       "<table border=\"1\" class=\"dataframe\">\n",
       "  <thead>\n",
       "    <tr style=\"text-align: right;\">\n",
       "      <th></th>\n",
       "      <th>jumlah</th>\n",
       "      <th>Percent</th>\n",
       "    </tr>\n",
       "  </thead>\n",
       "  <tbody>\n",
       "    <tr>\n",
       "      <th>city</th>\n",
       "      <td>0</td>\n",
       "      <td>0.000000</td>\n",
       "    </tr>\n",
       "    <tr>\n",
       "      <th>city_development_index</th>\n",
       "      <td>0</td>\n",
       "      <td>0.000000</td>\n",
       "    </tr>\n",
       "    <tr>\n",
       "      <th>gender</th>\n",
       "      <td>4508</td>\n",
       "      <td>0.235306</td>\n",
       "    </tr>\n",
       "    <tr>\n",
       "      <th>relevent_experience</th>\n",
       "      <td>0</td>\n",
       "      <td>0.000000</td>\n",
       "    </tr>\n",
       "    <tr>\n",
       "      <th>enrolled_university</th>\n",
       "      <td>386</td>\n",
       "      <td>0.020148</td>\n",
       "    </tr>\n",
       "    <tr>\n",
       "      <th>education_level</th>\n",
       "      <td>460</td>\n",
       "      <td>0.024011</td>\n",
       "    </tr>\n",
       "    <tr>\n",
       "      <th>major_discipline</th>\n",
       "      <td>2813</td>\n",
       "      <td>0.146832</td>\n",
       "    </tr>\n",
       "    <tr>\n",
       "      <th>experience</th>\n",
       "      <td>65</td>\n",
       "      <td>0.003393</td>\n",
       "    </tr>\n",
       "    <tr>\n",
       "      <th>company_size</th>\n",
       "      <td>5938</td>\n",
       "      <td>0.309949</td>\n",
       "    </tr>\n",
       "    <tr>\n",
       "      <th>company_type</th>\n",
       "      <td>6140</td>\n",
       "      <td>0.320493</td>\n",
       "    </tr>\n",
       "    <tr>\n",
       "      <th>last_new_job</th>\n",
       "      <td>423</td>\n",
       "      <td>0.022080</td>\n",
       "    </tr>\n",
       "    <tr>\n",
       "      <th>training_hours</th>\n",
       "      <td>0</td>\n",
       "      <td>0.000000</td>\n",
       "    </tr>\n",
       "    <tr>\n",
       "      <th>target</th>\n",
       "      <td>0</td>\n",
       "      <td>0.000000</td>\n",
       "    </tr>\n",
       "  </tbody>\n",
       "</table>\n",
       "</div>"
      ],
      "text/plain": [
       "                        jumlah   Percent\n",
       "city                         0  0.000000\n",
       "city_development_index       0  0.000000\n",
       "gender                    4508  0.235306\n",
       "relevent_experience          0  0.000000\n",
       "enrolled_university        386  0.020148\n",
       "education_level            460  0.024011\n",
       "major_discipline          2813  0.146832\n",
       "experience                  65  0.003393\n",
       "company_size              5938  0.309949\n",
       "company_type              6140  0.320493\n",
       "last_new_job               423  0.022080\n",
       "training_hours               0  0.000000\n",
       "target                       0  0.000000"
      ]
     },
     "execution_count": 694,
     "metadata": {},
     "output_type": "execute_result"
    }
   ],
   "source": [
    "# Melihat total data kosong/baris dan berapa persen %\n",
    "informasi = pd.DataFrame({'jumlah': jumlah, 'Percent': rata2})\n",
    "informasi"
   ]
  },
  {
   "cell_type": "code",
   "execution_count": 696,
   "metadata": {
    "colab": {
     "base_uri": "https://localhost:8080/"
    },
    "id": "A86PI5Cu-DBM",
    "outputId": "571bcf8f-c9f8-49ff-a874-d9821ff9f982"
   },
   "outputs": [
    {
     "name": "stdout",
     "output_type": "stream",
     "text": [
      "city = 123\n",
      "city_development_index = 93\n",
      "gender = 4\n",
      "relevent_experience = 2\n",
      "enrolled_university = 4\n",
      "education_level = 6\n",
      "major_discipline = 7\n",
      "experience = 23\n",
      "company_size = 9\n",
      "company_type = 7\n",
      "last_new_job = 7\n",
      "training_hours = 241\n",
      "target = 2\n"
     ]
    }
   ],
   "source": [
    "# Melihat jumlah nilai unik di setiap kolom\n",
    "for i in df.columns:\n",
    "    print(i,'=',len(df[i].unique()))"
   ]
  },
  {
   "cell_type": "code",
   "execution_count": 698,
   "metadata": {
    "colab": {
     "base_uri": "https://localhost:8080/"
    },
    "id": "zVw-9RLdJrWN",
    "outputId": "3c466cac-e423-426b-bd8d-844f9ae89bbf"
   },
   "outputs": [
    {
     "data": {
      "text/plain": [
       "['gender',\n",
       " 'enrolled_university',\n",
       " 'education_level',\n",
       " 'major_discipline',\n",
       " 'experience',\n",
       " 'company_size',\n",
       " 'company_type',\n",
       " 'last_new_job']"
      ]
     },
     "execution_count": 698,
     "metadata": {},
     "output_type": "execute_result"
    }
   ],
   "source": [
    "# Melihat variabel apa saja yang kosong\n",
    "var_kosong = [var for var in df.columns if df[var].isnull().mean() > 0]\n",
    "var_kosong"
   ]
  },
  {
   "cell_type": "code",
   "execution_count": 700,
   "metadata": {
    "colab": {
     "base_uri": "https://localhost:8080/",
     "height": 335
    },
    "id": "7lu_RLepKmUT",
    "outputId": "b57eac43-9d43-41ad-b932-0b444e066fc2"
   },
   "outputs": [
    {
     "data": {
      "text/plain": [
       "gender                 object\n",
       "enrolled_university    object\n",
       "education_level        object\n",
       "major_discipline       object\n",
       "experience             object\n",
       "company_size           object\n",
       "company_type           object\n",
       "last_new_job           object\n",
       "dtype: object"
      ]
     },
     "execution_count": 700,
     "metadata": {},
     "output_type": "execute_result"
    }
   ],
   "source": [
    "# Melihat tipe data di var_kosong\n",
    "df[var_kosong].dtypes"
   ]
  },
  {
   "cell_type": "code",
   "execution_count": 702,
   "metadata": {
    "colab": {
     "base_uri": "https://localhost:8080/",
     "height": 363
    },
    "id": "BZFVfXpAKdRp",
    "outputId": "ff17d3cd-1f17-4cf2-97be-08c8a91ca207"
   },
   "outputs": [
    {
     "data": {
      "text/html": [
       "<div>\n",
       "<style scoped>\n",
       "    .dataframe tbody tr th:only-of-type {\n",
       "        vertical-align: middle;\n",
       "    }\n",
       "\n",
       "    .dataframe tbody tr th {\n",
       "        vertical-align: top;\n",
       "    }\n",
       "\n",
       "    .dataframe thead th {\n",
       "        text-align: right;\n",
       "    }\n",
       "</style>\n",
       "<table border=\"1\" class=\"dataframe\">\n",
       "  <thead>\n",
       "    <tr style=\"text-align: right;\">\n",
       "      <th></th>\n",
       "      <th>gender</th>\n",
       "      <th>enrolled_university</th>\n",
       "      <th>education_level</th>\n",
       "      <th>major_discipline</th>\n",
       "      <th>experience</th>\n",
       "      <th>company_size</th>\n",
       "      <th>company_type</th>\n",
       "      <th>last_new_job</th>\n",
       "    </tr>\n",
       "  </thead>\n",
       "  <tbody>\n",
       "    <tr>\n",
       "      <th>0</th>\n",
       "      <td>Male</td>\n",
       "      <td>no_enrollment</td>\n",
       "      <td>Graduate</td>\n",
       "      <td>STEM</td>\n",
       "      <td>&gt;20</td>\n",
       "      <td>NaN</td>\n",
       "      <td>NaN</td>\n",
       "      <td>1</td>\n",
       "    </tr>\n",
       "    <tr>\n",
       "      <th>1</th>\n",
       "      <td>Male</td>\n",
       "      <td>no_enrollment</td>\n",
       "      <td>Graduate</td>\n",
       "      <td>STEM</td>\n",
       "      <td>15</td>\n",
       "      <td>50-99</td>\n",
       "      <td>Pvt Ltd</td>\n",
       "      <td>&gt;4</td>\n",
       "    </tr>\n",
       "    <tr>\n",
       "      <th>2</th>\n",
       "      <td>NaN</td>\n",
       "      <td>Full time course</td>\n",
       "      <td>Graduate</td>\n",
       "      <td>STEM</td>\n",
       "      <td>5</td>\n",
       "      <td>NaN</td>\n",
       "      <td>NaN</td>\n",
       "      <td>never</td>\n",
       "    </tr>\n",
       "    <tr>\n",
       "      <th>3</th>\n",
       "      <td>NaN</td>\n",
       "      <td>NaN</td>\n",
       "      <td>Graduate</td>\n",
       "      <td>Business Degree</td>\n",
       "      <td>&lt;1</td>\n",
       "      <td>NaN</td>\n",
       "      <td>Pvt Ltd</td>\n",
       "      <td>never</td>\n",
       "    </tr>\n",
       "    <tr>\n",
       "      <th>4</th>\n",
       "      <td>Male</td>\n",
       "      <td>no_enrollment</td>\n",
       "      <td>Masters</td>\n",
       "      <td>STEM</td>\n",
       "      <td>&gt;20</td>\n",
       "      <td>50-99</td>\n",
       "      <td>Funded Startup</td>\n",
       "      <td>4</td>\n",
       "    </tr>\n",
       "    <tr>\n",
       "      <th>5</th>\n",
       "      <td>NaN</td>\n",
       "      <td>Part time course</td>\n",
       "      <td>Graduate</td>\n",
       "      <td>STEM</td>\n",
       "      <td>11</td>\n",
       "      <td>NaN</td>\n",
       "      <td>NaN</td>\n",
       "      <td>1</td>\n",
       "    </tr>\n",
       "    <tr>\n",
       "      <th>6</th>\n",
       "      <td>Male</td>\n",
       "      <td>no_enrollment</td>\n",
       "      <td>High School</td>\n",
       "      <td>NaN</td>\n",
       "      <td>5</td>\n",
       "      <td>50-99</td>\n",
       "      <td>Funded Startup</td>\n",
       "      <td>1</td>\n",
       "    </tr>\n",
       "    <tr>\n",
       "      <th>7</th>\n",
       "      <td>Male</td>\n",
       "      <td>no_enrollment</td>\n",
       "      <td>Graduate</td>\n",
       "      <td>STEM</td>\n",
       "      <td>13</td>\n",
       "      <td>&lt;10</td>\n",
       "      <td>Pvt Ltd</td>\n",
       "      <td>&gt;4</td>\n",
       "    </tr>\n",
       "    <tr>\n",
       "      <th>8</th>\n",
       "      <td>Male</td>\n",
       "      <td>no_enrollment</td>\n",
       "      <td>Graduate</td>\n",
       "      <td>STEM</td>\n",
       "      <td>7</td>\n",
       "      <td>50-99</td>\n",
       "      <td>Pvt Ltd</td>\n",
       "      <td>1</td>\n",
       "    </tr>\n",
       "    <tr>\n",
       "      <th>9</th>\n",
       "      <td>NaN</td>\n",
       "      <td>no_enrollment</td>\n",
       "      <td>Graduate</td>\n",
       "      <td>STEM</td>\n",
       "      <td>17</td>\n",
       "      <td>10000+</td>\n",
       "      <td>Pvt Ltd</td>\n",
       "      <td>&gt;4</td>\n",
       "    </tr>\n",
       "  </tbody>\n",
       "</table>\n",
       "</div>"
      ],
      "text/plain": [
       "  gender enrolled_university education_level major_discipline experience  \\\n",
       "0   Male       no_enrollment        Graduate             STEM        >20   \n",
       "1   Male       no_enrollment        Graduate             STEM         15   \n",
       "2    NaN    Full time course        Graduate             STEM          5   \n",
       "3    NaN                 NaN        Graduate  Business Degree         <1   \n",
       "4   Male       no_enrollment         Masters             STEM        >20   \n",
       "5    NaN    Part time course        Graduate             STEM         11   \n",
       "6   Male       no_enrollment     High School              NaN          5   \n",
       "7   Male       no_enrollment        Graduate             STEM         13   \n",
       "8   Male       no_enrollment        Graduate             STEM          7   \n",
       "9    NaN       no_enrollment        Graduate             STEM         17   \n",
       "\n",
       "  company_size    company_type last_new_job  \n",
       "0          NaN             NaN            1  \n",
       "1        50-99         Pvt Ltd           >4  \n",
       "2          NaN             NaN        never  \n",
       "3          NaN         Pvt Ltd        never  \n",
       "4        50-99  Funded Startup            4  \n",
       "5          NaN             NaN            1  \n",
       "6        50-99  Funded Startup            1  \n",
       "7          <10         Pvt Ltd           >4  \n",
       "8        50-99         Pvt Ltd            1  \n",
       "9       10000+         Pvt Ltd           >4  "
      ]
     },
     "execution_count": 702,
     "metadata": {},
     "output_type": "execute_result"
    }
   ],
   "source": [
    "# Melihat tampilan variabel dengan missing values\n",
    "df[var_kosong].head(10)"
   ]
  },
  {
   "cell_type": "code",
   "execution_count": 704,
   "metadata": {
    "colab": {
     "base_uri": "https://localhost:8080/",
     "height": 300
    },
    "id": "4IYDUAlRKxj3",
    "outputId": "6bb6c7b7-743c-4020-8fac-dfb4db9f6c0c"
   },
   "outputs": [
    {
     "data": {
      "text/html": [
       "<div>\n",
       "<style scoped>\n",
       "    .dataframe tbody tr th:only-of-type {\n",
       "        vertical-align: middle;\n",
       "    }\n",
       "\n",
       "    .dataframe tbody tr th {\n",
       "        vertical-align: top;\n",
       "    }\n",
       "\n",
       "    .dataframe thead th {\n",
       "        text-align: right;\n",
       "    }\n",
       "</style>\n",
       "<table border=\"1\" class=\"dataframe\">\n",
       "  <thead>\n",
       "    <tr style=\"text-align: right;\">\n",
       "      <th></th>\n",
       "      <th>variabel</th>\n",
       "      <th>proporsi missing</th>\n",
       "      <th>tipe data</th>\n",
       "    </tr>\n",
       "  </thead>\n",
       "  <tbody>\n",
       "    <tr>\n",
       "      <th>6</th>\n",
       "      <td>company_type</td>\n",
       "      <td>0.320493</td>\n",
       "      <td>object</td>\n",
       "    </tr>\n",
       "    <tr>\n",
       "      <th>5</th>\n",
       "      <td>company_size</td>\n",
       "      <td>0.309949</td>\n",
       "      <td>object</td>\n",
       "    </tr>\n",
       "    <tr>\n",
       "      <th>0</th>\n",
       "      <td>gender</td>\n",
       "      <td>0.235306</td>\n",
       "      <td>object</td>\n",
       "    </tr>\n",
       "    <tr>\n",
       "      <th>3</th>\n",
       "      <td>major_discipline</td>\n",
       "      <td>0.146832</td>\n",
       "      <td>object</td>\n",
       "    </tr>\n",
       "    <tr>\n",
       "      <th>2</th>\n",
       "      <td>education_level</td>\n",
       "      <td>0.024011</td>\n",
       "      <td>object</td>\n",
       "    </tr>\n",
       "    <tr>\n",
       "      <th>7</th>\n",
       "      <td>last_new_job</td>\n",
       "      <td>0.022080</td>\n",
       "      <td>object</td>\n",
       "    </tr>\n",
       "    <tr>\n",
       "      <th>1</th>\n",
       "      <td>enrolled_university</td>\n",
       "      <td>0.020148</td>\n",
       "      <td>object</td>\n",
       "    </tr>\n",
       "    <tr>\n",
       "      <th>4</th>\n",
       "      <td>experience</td>\n",
       "      <td>0.003393</td>\n",
       "      <td>object</td>\n",
       "    </tr>\n",
       "  </tbody>\n",
       "</table>\n",
       "</div>"
      ],
      "text/plain": [
       "              variabel  proporsi missing tipe data\n",
       "6         company_type          0.320493    object\n",
       "5         company_size          0.309949    object\n",
       "0               gender          0.235306    object\n",
       "3     major_discipline          0.146832    object\n",
       "2      education_level          0.024011    object\n",
       "7         last_new_job          0.022080    object\n",
       "1  enrolled_university          0.020148    object\n",
       "4           experience          0.003393    object"
      ]
     },
     "execution_count": 704,
     "metadata": {},
     "output_type": "execute_result"
    }
   ],
   "source": [
    "# Melihat persentase banyaknya nilai kosong di var_kosong\n",
    "# Kita mulai dengan menghitung nilai rataan nilai kosong dan menyimpannya sebagai df_kosong\n",
    "df_kosong = df[var_kosong].isnull().mean()\n",
    "\n",
    "# Kita bisa menggunakan method isnull() maupun isna(), keduanya sama saja\n",
    "\n",
    "# Merubahnya menjadi format dataframe (tabel)\n",
    "df_kosong = pd.DataFrame(df_kosong.reset_index())\n",
    "\n",
    "# Memberikan nama kolom ke tabel df_kosong\n",
    "df_kosong.columns = ['variabel', 'proporsi missing']\n",
    "\n",
    "# Menambah kolom baru untuk melihat tipe data\n",
    "df_kosong['tipe data'] = [var for var in df[var_kosong].dtypes]\n",
    "\n",
    "# Mengurutkan tabel mulai dari nilai 'proporsi missing' besar ke kecil\n",
    "df_kosong.sort_values(by='proporsi missing', ascending=False, inplace=True)\n",
    "\n",
    "# Melihat tampilan tabel df_kosong\n",
    "df_kosong\n",
    "\n",
    "\n",
    "# bisa di lihat di modul 15, menit 39 (Pak Mega)"
   ]
  },
  {
   "cell_type": "code",
   "execution_count": 706,
   "metadata": {
    "colab": {
     "base_uri": "https://localhost:8080/"
    },
    "id": "7gB5QDhIK5sR",
    "outputId": "fc88ae79-6359-4ee4-d113-462e52bf36ac"
   },
   "outputs": [
    {
     "data": {
      "text/plain": [
       "['enrolled_university', 'education_level', 'experience', 'last_new_job']"
      ]
     },
     "execution_count": 706,
     "metadata": {},
     "output_type": "execute_result"
    }
   ],
   "source": [
    "# Menyeleksi hanya yang memiliki proporsi < 0.05 dan menyimpannya sebagai list var_cca\n",
    "var_cca = [var for var in var_kosong if df[var].isnull().mean() < 0.05]\n",
    "var_cca"
   ]
  },
  {
   "cell_type": "code",
   "execution_count": 708,
   "metadata": {
    "colab": {
     "base_uri": "https://localhost:8080/"
    },
    "id": "KLwMWMsscg_W",
    "outputId": "5d25aa36-19d6-462a-b468-9a35b2420e3a"
   },
   "outputs": [
    {
     "data": {
      "text/plain": [
       "((19158, 13), (18014, 13))"
      ]
     },
     "execution_count": 708,
     "metadata": {},
     "output_type": "execute_result"
    }
   ],
   "source": [
    "# Menghapus data dengan method dropna() dan menambahkan parameter subset\n",
    "# Parameter subset diisi dengan list nama kolom yang ingin dihapus nilai kosongnya\n",
    "# Kita simpan sebagai tabel baru dengan nama df_cca\n",
    "df_cca = df.dropna(subset=var_cca)\n",
    "\n",
    "# Jika ingin menghapus semua baris data yang 'missing' tanpa memperdulikan variabelnya (semua yang 'missing' dihapus),\n",
    "# maka lakukan cara berikut\n",
    "# df = df.dropna()\n",
    "\n",
    "# Membandingkan dimensi df (baris, kolom) sebelum dan sesudah CCA\n",
    "df.shape, df_cca.shape"
   ]
  },
  {
   "cell_type": "code",
   "execution_count": 710,
   "metadata": {
    "colab": {
     "base_uri": "https://localhost:8080/"
    },
    "id": "O3LKfDHVcsoM",
    "outputId": "c0fd5354-3b1f-4403-c770-4b2eb80968a3"
   },
   "outputs": [
    {
     "data": {
      "text/plain": [
       "0.9402860423843825"
      ]
     },
     "execution_count": 710,
     "metadata": {},
     "output_type": "execute_result"
    }
   ],
   "source": [
    "# Menghitung proporsi baris data antara data sekarang dibanding data sebelumnya\n",
    "len(df_cca)/len(df)"
   ]
  },
  {
   "cell_type": "code",
   "execution_count": 712,
   "metadata": {
    "colab": {
     "base_uri": "https://localhost:8080/",
     "height": 452
    },
    "id": "NXsoj2L9eS9_",
    "outputId": "b9f9bcfd-df4a-4791-83d9-3a8cffc57605"
   },
   "outputs": [
    {
     "data": {
      "image/png": "[encoded data removed]",
      "text/plain": [
       "<Figure size 640x480 with 1 Axes>"
      ]
     },
     "metadata": {},
     "output_type": "display_data"
    }
   ],
   "source": [
    "# Menyiapkan template canvas\n",
    "fig, ax = plt.subplots()\n",
    "\n",
    "# Data asli\n",
    "df['experience'].hist(bins=50, ax=ax, color='red', grid=False)\n",
    "\n",
    "# Kita gunakan parameter alpha agar histogram df_cca menjadi sedikit transparan\n",
    "df_cca['experience'].hist(bins=50, ax=ax, color='blue', alpha=0.6, grid=False)\n",
    "\n",
    "# Menyiapkan legenda\n",
    "label = ['Tanpa CCA', 'Dengan CCA']\n",
    "\n",
    "# membuat judul plot dan menampilkannya\n",
    "ax.set_title('Perbandingan histogram sebelum dan sesudah CCA')\n",
    "ax.legend(label, loc=0)\n",
    "plt.show()"
   ]
  },
  {
   "cell_type": "code",
   "execution_count": 713,
   "metadata": {
    "colab": {
     "base_uri": "https://localhost:8080/"
    },
    "id": "3RJMRP_QhyfJ",
    "outputId": "b5e8d4d3-1c2e-4e85-95c1-8e9d6ddf09f9"
   },
   "outputs": [
    {
     "data": {
      "text/plain": [
       "['gender',\n",
       " 'enrolled_university',\n",
       " 'education_level',\n",
       " 'major_discipline',\n",
       " 'experience',\n",
       " 'company_size',\n",
       " 'company_type',\n",
       " 'last_new_job']"
      ]
     },
     "execution_count": 713,
     "metadata": {},
     "output_type": "execute_result"
    }
   ],
   "source": [
    "# Menyeleksi hanya yang memiliki proporsi < 0.50 dan menyimpannya sebagai list var_cca\n",
    "var_cca = [var for var in var_kosong if df[var].isnull().mean() < 0.50]\n",
    "var_cca"
   ]
  },
  {
   "cell_type": "code",
   "execution_count": 714,
   "metadata": {
    "id": "282jEyfkbJdK"
   },
   "outputs": [],
   "source": [
    "df = df_cca"
   ]
  },
  {
   "cell_type": "code",
   "execution_count": 718,
   "metadata": {
    "id": "4xbHC-fJd1wU"
   },
   "outputs": [],
   "source": [
    "# Jika ingin menghapus semua baris data yang 'missing' tanpa memperdulikan variabelnya (semua yang 'missing' dihapus),\n",
    "# maka lakukan cara berikut\n",
    "#df = df.dropna(axis=0) # HATI-HATI, AKAN MEMBUAT SEMUA KOLOM KOSONG MENJADI MENGHAPUS 1 BARIS"
   ]
  },
  {
   "cell_type": "code",
   "execution_count": 720,
   "metadata": {
    "colab": {
     "base_uri": "https://localhost:8080/",
     "height": 492
    },
    "id": "6XJSbruLb43V",
    "outputId": "6a6cef76-6bfb-489a-c808-9c4b0073f01c"
   },
   "outputs": [
    {
     "data": {
      "text/plain": [
       "city                         0\n",
       "city_development_index       0\n",
       "gender                    3863\n",
       "relevent_experience          0\n",
       "enrolled_university          0\n",
       "education_level              0\n",
       "major_discipline          2222\n",
       "experience                   0\n",
       "company_size              5310\n",
       "company_type              5476\n",
       "last_new_job                 0\n",
       "training_hours               0\n",
       "target                       0\n",
       "dtype: int64"
      ]
     },
     "execution_count": 720,
     "metadata": {},
     "output_type": "execute_result"
    }
   ],
   "source": [
    "# Untuk melihat berapa baris yang kosong/NaN\n",
    "df.isnull().sum()"
   ]
  },
  {
   "cell_type": "code",
   "execution_count": 722,
   "metadata": {
    "id": "wKCj6MQwcd5L"
   },
   "outputs": [],
   "source": [
    "# Mendefinisikan variabel dependen (y) dan variabel independen (X)\n",
    "X = df.drop([target], axis=1)\n",
    "y = df[target]"
   ]
  },
  {
   "cell_type": "code",
   "execution_count": 724,
   "metadata": {
    "colab": {
     "base_uri": "https://localhost:8080/",
     "height": 363
    },
    "id": "9UGUyNIFcRIE",
    "outputId": "dd26137c-733a-4074-f397-df113c965ce1"
   },
   "outputs": [
    {
     "data": {
      "text/html": [
       "<div>\n",
       "<style scoped>\n",
       "    .dataframe tbody tr th:only-of-type {\n",
       "        vertical-align: middle;\n",
       "    }\n",
       "\n",
       "    .dataframe tbody tr th {\n",
       "        vertical-align: top;\n",
       "    }\n",
       "\n",
       "    .dataframe thead th {\n",
       "        text-align: right;\n",
       "    }\n",
       "</style>\n",
       "<table border=\"1\" class=\"dataframe\">\n",
       "  <thead>\n",
       "    <tr style=\"text-align: right;\">\n",
       "      <th></th>\n",
       "      <th>city</th>\n",
       "      <th>city_development_index</th>\n",
       "      <th>gender</th>\n",
       "      <th>relevent_experience</th>\n",
       "      <th>enrolled_university</th>\n",
       "      <th>education_level</th>\n",
       "      <th>major_discipline</th>\n",
       "      <th>experience</th>\n",
       "      <th>company_size</th>\n",
       "      <th>company_type</th>\n",
       "      <th>last_new_job</th>\n",
       "      <th>training_hours</th>\n",
       "    </tr>\n",
       "  </thead>\n",
       "  <tbody>\n",
       "    <tr>\n",
       "      <th>0</th>\n",
       "      <td>city_103</td>\n",
       "      <td>0.920</td>\n",
       "      <td>Male</td>\n",
       "      <td>Has relevent experience</td>\n",
       "      <td>no_enrollment</td>\n",
       "      <td>Graduate</td>\n",
       "      <td>STEM</td>\n",
       "      <td>&gt;20</td>\n",
       "      <td>NaN</td>\n",
       "      <td>NaN</td>\n",
       "      <td>1</td>\n",
       "      <td>36</td>\n",
       "    </tr>\n",
       "    <tr>\n",
       "      <th>1</th>\n",
       "      <td>city_40</td>\n",
       "      <td>0.776</td>\n",
       "      <td>Male</td>\n",
       "      <td>No relevent experience</td>\n",
       "      <td>no_enrollment</td>\n",
       "      <td>Graduate</td>\n",
       "      <td>STEM</td>\n",
       "      <td>15</td>\n",
       "      <td>50-99</td>\n",
       "      <td>Pvt Ltd</td>\n",
       "      <td>&gt;4</td>\n",
       "      <td>47</td>\n",
       "    </tr>\n",
       "    <tr>\n",
       "      <th>2</th>\n",
       "      <td>city_21</td>\n",
       "      <td>0.624</td>\n",
       "      <td>NaN</td>\n",
       "      <td>No relevent experience</td>\n",
       "      <td>Full time course</td>\n",
       "      <td>Graduate</td>\n",
       "      <td>STEM</td>\n",
       "      <td>5</td>\n",
       "      <td>NaN</td>\n",
       "      <td>NaN</td>\n",
       "      <td>never</td>\n",
       "      <td>83</td>\n",
       "    </tr>\n",
       "    <tr>\n",
       "      <th>4</th>\n",
       "      <td>city_162</td>\n",
       "      <td>0.767</td>\n",
       "      <td>Male</td>\n",
       "      <td>Has relevent experience</td>\n",
       "      <td>no_enrollment</td>\n",
       "      <td>Masters</td>\n",
       "      <td>STEM</td>\n",
       "      <td>&gt;20</td>\n",
       "      <td>50-99</td>\n",
       "      <td>Funded Startup</td>\n",
       "      <td>4</td>\n",
       "      <td>8</td>\n",
       "    </tr>\n",
       "    <tr>\n",
       "      <th>5</th>\n",
       "      <td>city_176</td>\n",
       "      <td>0.764</td>\n",
       "      <td>NaN</td>\n",
       "      <td>Has relevent experience</td>\n",
       "      <td>Part time course</td>\n",
       "      <td>Graduate</td>\n",
       "      <td>STEM</td>\n",
       "      <td>11</td>\n",
       "      <td>NaN</td>\n",
       "      <td>NaN</td>\n",
       "      <td>1</td>\n",
       "      <td>24</td>\n",
       "    </tr>\n",
       "    <tr>\n",
       "      <th>6</th>\n",
       "      <td>city_160</td>\n",
       "      <td>0.920</td>\n",
       "      <td>Male</td>\n",
       "      <td>Has relevent experience</td>\n",
       "      <td>no_enrollment</td>\n",
       "      <td>High School</td>\n",
       "      <td>NaN</td>\n",
       "      <td>5</td>\n",
       "      <td>50-99</td>\n",
       "      <td>Funded Startup</td>\n",
       "      <td>1</td>\n",
       "      <td>24</td>\n",
       "    </tr>\n",
       "    <tr>\n",
       "      <th>7</th>\n",
       "      <td>city_46</td>\n",
       "      <td>0.762</td>\n",
       "      <td>Male</td>\n",
       "      <td>Has relevent experience</td>\n",
       "      <td>no_enrollment</td>\n",
       "      <td>Graduate</td>\n",
       "      <td>STEM</td>\n",
       "      <td>13</td>\n",
       "      <td>&lt;10</td>\n",
       "      <td>Pvt Ltd</td>\n",
       "      <td>&gt;4</td>\n",
       "      <td>18</td>\n",
       "    </tr>\n",
       "    <tr>\n",
       "      <th>8</th>\n",
       "      <td>city_103</td>\n",
       "      <td>0.920</td>\n",
       "      <td>Male</td>\n",
       "      <td>Has relevent experience</td>\n",
       "      <td>no_enrollment</td>\n",
       "      <td>Graduate</td>\n",
       "      <td>STEM</td>\n",
       "      <td>7</td>\n",
       "      <td>50-99</td>\n",
       "      <td>Pvt Ltd</td>\n",
       "      <td>1</td>\n",
       "      <td>46</td>\n",
       "    </tr>\n",
       "    <tr>\n",
       "      <th>9</th>\n",
       "      <td>city_103</td>\n",
       "      <td>0.920</td>\n",
       "      <td>NaN</td>\n",
       "      <td>Has relevent experience</td>\n",
       "      <td>no_enrollment</td>\n",
       "      <td>Graduate</td>\n",
       "      <td>STEM</td>\n",
       "      <td>17</td>\n",
       "      <td>10000+</td>\n",
       "      <td>Pvt Ltd</td>\n",
       "      <td>&gt;4</td>\n",
       "      <td>123</td>\n",
       "    </tr>\n",
       "    <tr>\n",
       "      <th>10</th>\n",
       "      <td>city_21</td>\n",
       "      <td>0.624</td>\n",
       "      <td>NaN</td>\n",
       "      <td>No relevent experience</td>\n",
       "      <td>Full time course</td>\n",
       "      <td>High School</td>\n",
       "      <td>NaN</td>\n",
       "      <td>2</td>\n",
       "      <td>NaN</td>\n",
       "      <td>NaN</td>\n",
       "      <td>never</td>\n",
       "      <td>32</td>\n",
       "    </tr>\n",
       "  </tbody>\n",
       "</table>\n",
       "</div>"
      ],
      "text/plain": [
       "        city  city_development_index gender      relevent_experience  \\\n",
       "0   city_103                   0.920   Male  Has relevent experience   \n",
       "1    city_40                   0.776   Male   No relevent experience   \n",
       "2    city_21                   0.624    NaN   No relevent experience   \n",
       "4   city_162                   0.767   Male  Has relevent experience   \n",
       "5   city_176                   0.764    NaN  Has relevent experience   \n",
       "6   city_160                   0.920   Male  Has relevent experience   \n",
       "7    city_46                   0.762   Male  Has relevent experience   \n",
       "8   city_103                   0.920   Male  Has relevent experience   \n",
       "9   city_103                   0.920    NaN  Has relevent experience   \n",
       "10   city_21                   0.624    NaN   No relevent experience   \n",
       "\n",
       "   enrolled_university education_level major_discipline experience  \\\n",
       "0        no_enrollment        Graduate             STEM        >20   \n",
       "1        no_enrollment        Graduate             STEM         15   \n",
       "2     Full time course        Graduate             STEM          5   \n",
       "4        no_enrollment         Masters             STEM        >20   \n",
       "5     Part time course        Graduate             STEM         11   \n",
       "6        no_enrollment     High School              NaN          5   \n",
       "7        no_enrollment        Graduate             STEM         13   \n",
       "8        no_enrollment        Graduate             STEM          7   \n",
       "9        no_enrollment        Graduate             STEM         17   \n",
       "10    Full time course     High School              NaN          2   \n",
       "\n",
       "   company_size    company_type last_new_job  training_hours  \n",
       "0           NaN             NaN            1              36  \n",
       "1         50-99         Pvt Ltd           >4              47  \n",
       "2           NaN             NaN        never              83  \n",
       "4         50-99  Funded Startup            4               8  \n",
       "5           NaN             NaN            1              24  \n",
       "6         50-99  Funded Startup            1              24  \n",
       "7           <10         Pvt Ltd           >4              18  \n",
       "8         50-99         Pvt Ltd            1              46  \n",
       "9        10000+         Pvt Ltd           >4             123  \n",
       "10          NaN             NaN        never              32  "
      ]
     },
     "execution_count": 724,
     "metadata": {},
     "output_type": "execute_result"
    }
   ],
   "source": [
    "# Melihat X\n",
    "X.head(10)"
   ]
  },
  {
   "cell_type": "code",
   "execution_count": 726,
   "metadata": {},
   "outputs": [
    {
     "name": "stdout",
     "output_type": "stream",
     "text": [
      "<class 'pandas.core.frame.DataFrame'>\n",
      "Index: 18014 entries, 0 to 19157\n",
      "Data columns (total 12 columns):\n",
      " #   Column                  Non-Null Count  Dtype  \n",
      "---  ------                  --------------  -----  \n",
      " 0   city                    18014 non-null  object \n",
      " 1   city_development_index  18014 non-null  float64\n",
      " 2   gender                  14151 non-null  object \n",
      " 3   relevent_experience     18014 non-null  object \n",
      " 4   enrolled_university     18014 non-null  object \n",
      " 5   education_level         18014 non-null  object \n",
      " 6   major_discipline        15792 non-null  object \n",
      " 7   experience              18014 non-null  object \n",
      " 8   company_size            12704 non-null  object \n",
      " 9   company_type            12538 non-null  object \n",
      " 10  last_new_job            18014 non-null  object \n",
      " 11  training_hours          18014 non-null  int64  \n",
      "dtypes: float64(1), int64(1), object(10)\n",
      "memory usage: 1.8+ MB\n"
     ]
    }
   ],
   "source": [
    "X.info()"
   ]
  },
  {
   "cell_type": "code",
   "execution_count": 728,
   "metadata": {},
   "outputs": [
    {
     "data": {
      "text/plain": [
       "city                         0\n",
       "city_development_index       0\n",
       "gender                    3863\n",
       "relevent_experience          0\n",
       "enrolled_university          0\n",
       "education_level              0\n",
       "major_discipline          2222\n",
       "experience                   0\n",
       "company_size              5310\n",
       "company_type              5476\n",
       "last_new_job                 0\n",
       "training_hours               0\n",
       "dtype: int64"
      ]
     },
     "execution_count": 728,
     "metadata": {},
     "output_type": "execute_result"
    }
   ],
   "source": [
    "# Untuk melihat berapa baris yang kosong/NaN\n",
    "X.isnull().sum()"
   ]
  },
  {
   "cell_type": "code",
   "execution_count": 730,
   "metadata": {
    "colab": {
     "base_uri": "https://localhost:8080/",
     "height": 241
    },
    "id": "vbdleSvdf7EI",
    "outputId": "cfb7138b-8b64-4a54-97fd-3a4c1b0290c3"
   },
   "outputs": [
    {
     "data": {
      "text/plain": [
       "0    1.0\n",
       "1    0.0\n",
       "2    0.0\n",
       "4    0.0\n",
       "5    1.0\n",
       "Name: target, dtype: float64"
      ]
     },
     "execution_count": 730,
     "metadata": {},
     "output_type": "execute_result"
    }
   ],
   "source": [
    "# Melihat y\n",
    "y.head()"
   ]
  },
  {
   "cell_type": "code",
   "execution_count": 732,
   "metadata": {
    "id": "6EZeb3RT-DBM"
   },
   "outputs": [
    {
     "name": "stdout",
     "output_type": "stream",
     "text": [
      "(14411, 12) (3603, 12)\n"
     ]
    }
   ],
   "source": [
    "# Splitting data\n",
    "X_train, X_test, y_train, y_test = train_test_split(\n",
    "    X,\n",
    "    y,\n",
    "    test_size = 0.2,\n",
    "    random_state = 0)\n",
    "\n",
    "# Reset indeks dengan looping\n",
    "for i in [X_train, X_test, y_train, y_test]:\n",
    "    i.reset_index(drop=True, inplace=True)\n",
    "\n",
    "# Melihat dimensi training set dan test set\n",
    "print(X_train.shape, X_test.shape)"
   ]
  },
  {
   "cell_type": "code",
   "execution_count": 734,
   "metadata": {
    "colab": {
     "base_uri": "https://localhost:8080/"
    },
    "id": "kDit8MF--DBN",
    "outputId": "feaee213-411f-403d-a774-e3f8ced28841"
   },
   "outputs": [
    {
     "name": "stdout",
     "output_type": "stream",
     "text": [
      "['city', 'gender', 'relevent_experience', 'enrolled_university', 'education_level', 'major_discipline', 'experience', 'company_size', 'company_type', 'last_new_job']\n",
      "['city_development_index', 'training_hours']\n"
     ]
    }
   ],
   "source": [
    "# Membagi kolom menjadi kolom numerik dan kategori\n",
    "var_kategori = [var for var in df.columns if df[var].dtype=='O' and var!=target]\n",
    "var_numerik = [var for var in df.columns if df[var].dtype!='O' and var!=target]\n",
    "\n",
    "# Melihat variabel yang sudah dipisah\n",
    "print(var_kategori)\n",
    "print(var_numerik)"
   ]
  },
  {
   "cell_type": "code",
   "execution_count": 736,
   "metadata": {
    "id": "BI3T_0xq-DBN"
   },
   "outputs": [],
   "source": [
    "# Membuat Pipeline untuk preprocessing\n",
    "preprocessor_numerik = Pipeline([\n",
    "    ('imputasi', SimpleImputer(strategy='median')),\n",
    "    ('scaling', MinMaxScaler())\n",
    "])\n",
    "\n",
    "preprocessor_kategori = Pipeline([\n",
    "    ('imputasi', SimpleImputer(strategy='constant', fill_value='missing')),\n",
    "    ('encoding', OneHotEncoder(drop='first', sparse_output=False, handle_unknown='ignore'))\n",
    "])\n",
    "\n",
    "# Menggabungkan kedua pipeline di atas\n",
    "preprocessor = ColumnTransformer([\n",
    "    ('preprocessing numerik', preprocessor_numerik, var_numerik),\n",
    "    ('preprocessing kategori', preprocessor_kategori, var_kategori)\n",
    "])"
   ]
  },
  {
   "cell_type": "markdown",
   "metadata": {
    "id": "b8U6vUzV-DBO"
   },
   "source": [
    "Sebelum kita bandingkan beberapa model, kita coba buat 1 pipeline dengan salah satu model klasifikasi.\n",
    "\n",
    "Kita coba menggunakan regresi logistik."
   ]
  },
  {
   "cell_type": "code",
   "execution_count": 739,
   "metadata": {},
   "outputs": [
    {
     "data": {
      "text/plain": [
       "city                         0\n",
       "city_development_index       0\n",
       "gender                    3863\n",
       "relevent_experience          0\n",
       "enrolled_university          0\n",
       "education_level              0\n",
       "major_discipline          2222\n",
       "experience                   0\n",
       "company_size              5310\n",
       "company_type              5476\n",
       "last_new_job                 0\n",
       "training_hours               0\n",
       "dtype: int64"
      ]
     },
     "execution_count": 739,
     "metadata": {},
     "output_type": "execute_result"
    }
   ],
   "source": [
    "X.isnull().sum()"
   ]
  },
  {
   "cell_type": "code",
   "execution_count": 741,
   "metadata": {
    "id": "4m10olC4-DBO"
   },
   "outputs": [],
   "source": [
    "# Model regresi logistik\n",
    "logreg = LogisticRegression()\n",
    "\n",
    "# Pipeline model regresi logistik\n",
    "mod_logreg = Pipeline([\n",
    "    ('preprocessing', preprocessor),\n",
    "    ('logreg', logreg)\n",
    "])"
   ]
  },
  {
   "cell_type": "code",
   "execution_count": 742,
   "metadata": {
    "id": "SN2gLei6-DBO"
   },
   "outputs": [
    {
     "data": {
      "text/html": [
       "<style>#sk-container-id-12 {color: black;}#sk-container-id-12 pre{padding: 0;}#sk-container-id-12 div.sk-toggleable {background-color: white;}#sk-container-id-12 label.sk-toggleable__label {cursor: pointer;display: block;width: 100%;margin-bottom: 0;padding: 0.3em;box-sizing: border-box;text-align: center;}#sk-container-id-12 label.sk-toggleable__label-arrow:before {content: \"▸\";float: left;margin-right: 0.25em;color: #696969;}#sk-container-id-12 label.sk-toggleable__label-arrow:hover:before {color: black;}#sk-container-id-12 div.sk-estimator:hover label.sk-toggleable__label-arrow:before {color: black;}#sk-container-id-12 div.sk-toggleable__content {max-height: 0;max-width: 0;overflow: hidden;text-align: left;background-color: #f0f8ff;}#sk-container-id-12 div.sk-toggleable__content pre {margin: 0.2em;color: black;border-radius: 0.25em;background-color: #f0f8ff;}#sk-container-id-12 input.sk-toggleable__control:checked~div.sk-toggleable__content {max-height: 200px;max-width: 100%;overflow: auto;}#sk-container-id-12 input.sk-toggleable__control:checked~label.sk-toggleable__label-arrow:before {content: \"▾\";}#sk-container-id-12 div.sk-estimator input.sk-toggleable__control:checked~label.sk-toggleable__label {background-color: #d4ebff;}#sk-container-id-12 div.sk-label input.sk-toggleable__control:checked~label.sk-toggleable__label {background-color: #d4ebff;}#sk-container-id-12 input.sk-hidden--visually {border: 0;clip: rect(1px 1px 1px 1px);clip: rect(1px, 1px, 1px, 1px);height: 1px;margin: -1px;overflow: hidden;padding: 0;position: absolute;width: 1px;}#sk-container-id-12 div.sk-estimator {font-family: monospace;background-color: #f0f8ff;border: 1px dotted black;border-radius: 0.25em;box-sizing: border-box;margin-bottom: 0.5em;}#sk-container-id-12 div.sk-estimator:hover {background-color: #d4ebff;}#sk-container-id-12 div.sk-parallel-item::after {content: \"\";width: 100%;border-bottom: 1px solid gray;flex-grow: 1;}#sk-container-id-12 div.sk-label:hover label.sk-toggleable__label {background-color: #d4ebff;}#sk-container-id-12 div.sk-serial::before {content: \"\";position: absolute;border-left: 1px solid gray;box-sizing: border-box;top: 0;bottom: 0;left: 50%;z-index: 0;}#sk-container-id-12 div.sk-serial {display: flex;flex-direction: column;align-items: center;background-color: white;padding-right: 0.2em;padding-left: 0.2em;position: relative;}#sk-container-id-12 div.sk-item {position: relative;z-index: 1;}#sk-container-id-12 div.sk-parallel {display: flex;align-items: stretch;justify-content: center;background-color: white;position: relative;}#sk-container-id-12 div.sk-item::before, #sk-container-id-12 div.sk-parallel-item::before {content: \"\";position: absolute;border-left: 1px solid gray;box-sizing: border-box;top: 0;bottom: 0;left: 50%;z-index: -1;}#sk-container-id-12 div.sk-parallel-item {display: flex;flex-direction: column;z-index: 1;position: relative;background-color: white;}#sk-container-id-12 div.sk-parallel-item:first-child::after {align-self: flex-end;width: 50%;}#sk-container-id-12 div.sk-parallel-item:last-child::after {align-self: flex-start;width: 50%;}#sk-container-id-12 div.sk-parallel-item:only-child::after {width: 0;}#sk-container-id-12 div.sk-dashed-wrapped {border: 1px dashed gray;margin: 0 0.4em 0.5em 0.4em;box-sizing: border-box;padding-bottom: 0.4em;background-color: white;}#sk-container-id-12 div.sk-label label {font-family: monospace;font-weight: bold;display: inline-block;line-height: 1.2em;}#sk-container-id-12 div.sk-label-container {text-align: center;}#sk-container-id-12 div.sk-container {/* jupyter's `normalize.less` sets `[hidden] { display: none; }` but bootstrap.min.css set `[hidden] { display: none !important; }` so we also need the `!important` here to be able to override the default hidden behavior on the sphinx rendered scikit-learn.org. See: https://github.com/scikit-learn/scikit-learn/issues/21755 */display: inline-block !important;position: relative;}#sk-container-id-12 div.sk-text-repr-fallback {display: none;}</style><div id=\"sk-container-id-12\" class=\"sk-top-container\"><div class=\"sk-text-repr-fallback\"><pre>Pipeline(steps=[(&#x27;preprocessing&#x27;,\n",
       "                 ColumnTransformer(transformers=[(&#x27;preprocessing numerik&#x27;,\n",
       "                                                  Pipeline(steps=[(&#x27;imputasi&#x27;,\n",
       "                                                                   SimpleImputer(strategy=&#x27;median&#x27;)),\n",
       "                                                                  (&#x27;scaling&#x27;,\n",
       "                                                                   MinMaxScaler())]),\n",
       "                                                  [&#x27;city_development_index&#x27;,\n",
       "                                                   &#x27;training_hours&#x27;]),\n",
       "                                                 (&#x27;preprocessing kategori&#x27;,\n",
       "                                                  Pipeline(steps=[(&#x27;imputasi&#x27;,\n",
       "                                                                   SimpleImputer(fill_value=&#x27;missing&#x27;,\n",
       "                                                                                 strategy=&#x27;constant&#x27;)),\n",
       "                                                                  (&#x27;encoding&#x27;,\n",
       "                                                                   OneHotEncoder(drop=&#x27;first&#x27;,\n",
       "                                                                                 handle_unknown=&#x27;ignore&#x27;,\n",
       "                                                                                 sparse_output=False))]),\n",
       "                                                  [&#x27;city&#x27;, &#x27;gender&#x27;,\n",
       "                                                   &#x27;relevent_experience&#x27;,\n",
       "                                                   &#x27;enrolled_university&#x27;,\n",
       "                                                   &#x27;education_level&#x27;,\n",
       "                                                   &#x27;major_discipline&#x27;,\n",
       "                                                   &#x27;experience&#x27;, &#x27;company_size&#x27;,\n",
       "                                                   &#x27;company_type&#x27;,\n",
       "                                                   &#x27;last_new_job&#x27;])])),\n",
       "                (&#x27;logreg&#x27;, LogisticRegression())])</pre><b>In a Jupyter environment, please rerun this cell to show the HTML representation or trust the notebook. <br />On GitHub, the HTML representation is unable to render, please try loading this page with nbviewer.org.</b></div><div class=\"sk-container\" hidden><div class=\"sk-item sk-dashed-wrapped\"><div class=\"sk-label-container\"><div class=\"sk-label sk-toggleable\"><input class=\"sk-toggleable__control sk-hidden--visually\" id=\"sk-estimator-id-36\" type=\"checkbox\" ><label for=\"sk-estimator-id-36\" class=\"sk-toggleable__label sk-toggleable__label-arrow\">Pipeline</label><div class=\"sk-toggleable__content\"><pre>Pipeline(steps=[(&#x27;preprocessing&#x27;,\n",
       "                 ColumnTransformer(transformers=[(&#x27;preprocessing numerik&#x27;,\n",
       "                                                  Pipeline(steps=[(&#x27;imputasi&#x27;,\n",
       "                                                                   SimpleImputer(strategy=&#x27;median&#x27;)),\n",
       "                                                                  (&#x27;scaling&#x27;,\n",
       "                                                                   MinMaxScaler())]),\n",
       "                                                  [&#x27;city_development_index&#x27;,\n",
       "                                                   &#x27;training_hours&#x27;]),\n",
       "                                                 (&#x27;preprocessing kategori&#x27;,\n",
       "                                                  Pipeline(steps=[(&#x27;imputasi&#x27;,\n",
       "                                                                   SimpleImputer(fill_value=&#x27;missing&#x27;,\n",
       "                                                                                 strategy=&#x27;constant&#x27;)),\n",
       "                                                                  (&#x27;encoding&#x27;,\n",
       "                                                                   OneHotEncoder(drop=&#x27;first&#x27;,\n",
       "                                                                                 handle_unknown=&#x27;ignore&#x27;,\n",
       "                                                                                 sparse_output=False))]),\n",
       "                                                  [&#x27;city&#x27;, &#x27;gender&#x27;,\n",
       "                                                   &#x27;relevent_experience&#x27;,\n",
       "                                                   &#x27;enrolled_university&#x27;,\n",
       "                                                   &#x27;education_level&#x27;,\n",
       "                                                   &#x27;major_discipline&#x27;,\n",
       "                                                   &#x27;experience&#x27;, &#x27;company_size&#x27;,\n",
       "                                                   &#x27;company_type&#x27;,\n",
       "                                                   &#x27;last_new_job&#x27;])])),\n",
       "                (&#x27;logreg&#x27;, LogisticRegression())])</pre></div></div></div><div class=\"sk-serial\"><div class=\"sk-item sk-dashed-wrapped\"><div class=\"sk-label-container\"><div class=\"sk-label sk-toggleable\"><input class=\"sk-toggleable__control sk-hidden--visually\" id=\"sk-estimator-id-37\" type=\"checkbox\" ><label for=\"sk-estimator-id-37\" class=\"sk-toggleable__label sk-toggleable__label-arrow\">preprocessing: ColumnTransformer</label><div class=\"sk-toggleable__content\"><pre>ColumnTransformer(transformers=[(&#x27;preprocessing numerik&#x27;,\n",
       "                                 Pipeline(steps=[(&#x27;imputasi&#x27;,\n",
       "                                                  SimpleImputer(strategy=&#x27;median&#x27;)),\n",
       "                                                 (&#x27;scaling&#x27;, MinMaxScaler())]),\n",
       "                                 [&#x27;city_development_index&#x27;, &#x27;training_hours&#x27;]),\n",
       "                                (&#x27;preprocessing kategori&#x27;,\n",
       "                                 Pipeline(steps=[(&#x27;imputasi&#x27;,\n",
       "                                                  SimpleImputer(fill_value=&#x27;missing&#x27;,\n",
       "                                                                strategy=&#x27;constant&#x27;)),\n",
       "                                                 (&#x27;encoding&#x27;,\n",
       "                                                  OneHotEncoder(drop=&#x27;first&#x27;,\n",
       "                                                                handle_unknown=&#x27;ignore&#x27;,\n",
       "                                                                sparse_output=False))]),\n",
       "                                 [&#x27;city&#x27;, &#x27;gender&#x27;, &#x27;relevent_experience&#x27;,\n",
       "                                  &#x27;enrolled_university&#x27;, &#x27;education_level&#x27;,\n",
       "                                  &#x27;major_discipline&#x27;, &#x27;experience&#x27;,\n",
       "                                  &#x27;company_size&#x27;, &#x27;company_type&#x27;,\n",
       "                                  &#x27;last_new_job&#x27;])])</pre></div></div></div><div class=\"sk-parallel\"><div class=\"sk-parallel-item\"><div class=\"sk-item\"><div class=\"sk-label-container\"><div class=\"sk-label sk-toggleable\"><input class=\"sk-toggleable__control sk-hidden--visually\" id=\"sk-estimator-id-38\" type=\"checkbox\" ><label for=\"sk-estimator-id-38\" class=\"sk-toggleable__label sk-toggleable__label-arrow\">preprocessing numerik</label><div class=\"sk-toggleable__content\"><pre>[&#x27;city_development_index&#x27;, &#x27;training_hours&#x27;]</pre></div></div></div><div class=\"sk-serial\"><div class=\"sk-item\"><div class=\"sk-serial\"><div class=\"sk-item\"><div class=\"sk-estimator sk-toggleable\"><input class=\"sk-toggleable__control sk-hidden--visually\" id=\"sk-estimator-id-39\" type=\"checkbox\" ><label for=\"sk-estimator-id-39\" class=\"sk-toggleable__label sk-toggleable__label-arrow\">SimpleImputer</label><div class=\"sk-toggleable__content\"><pre>SimpleImputer(strategy=&#x27;median&#x27;)</pre></div></div></div><div class=\"sk-item\"><div class=\"sk-estimator sk-toggleable\"><input class=\"sk-toggleable__control sk-hidden--visually\" id=\"sk-estimator-id-40\" type=\"checkbox\" ><label for=\"sk-estimator-id-40\" class=\"sk-toggleable__label sk-toggleable__label-arrow\">MinMaxScaler</label><div class=\"sk-toggleable__content\"><pre>MinMaxScaler()</pre></div></div></div></div></div></div></div></div><div class=\"sk-parallel-item\"><div class=\"sk-item\"><div class=\"sk-label-container\"><div class=\"sk-label sk-toggleable\"><input class=\"sk-toggleable__control sk-hidden--visually\" id=\"sk-estimator-id-41\" type=\"checkbox\" ><label for=\"sk-estimator-id-41\" class=\"sk-toggleable__label sk-toggleable__label-arrow\">preprocessing kategori</label><div class=\"sk-toggleable__content\"><pre>[&#x27;city&#x27;, &#x27;gender&#x27;, &#x27;relevent_experience&#x27;, &#x27;enrolled_university&#x27;, &#x27;education_level&#x27;, &#x27;major_discipline&#x27;, &#x27;experience&#x27;, &#x27;company_size&#x27;, &#x27;company_type&#x27;, &#x27;last_new_job&#x27;]</pre></div></div></div><div class=\"sk-serial\"><div class=\"sk-item\"><div class=\"sk-serial\"><div class=\"sk-item\"><div class=\"sk-estimator sk-toggleable\"><input class=\"sk-toggleable__control sk-hidden--visually\" id=\"sk-estimator-id-42\" type=\"checkbox\" ><label for=\"sk-estimator-id-42\" class=\"sk-toggleable__label sk-toggleable__label-arrow\">SimpleImputer</label><div class=\"sk-toggleable__content\"><pre>SimpleImputer(fill_value=&#x27;missing&#x27;, strategy=&#x27;constant&#x27;)</pre></div></div></div><div class=\"sk-item\"><div class=\"sk-estimator sk-toggleable\"><input class=\"sk-toggleable__control sk-hidden--visually\" id=\"sk-estimator-id-43\" type=\"checkbox\" ><label for=\"sk-estimator-id-43\" class=\"sk-toggleable__label sk-toggleable__label-arrow\">OneHotEncoder</label><div class=\"sk-toggleable__content\"><pre>OneHotEncoder(drop=&#x27;first&#x27;, handle_unknown=&#x27;ignore&#x27;, sparse_output=False)</pre></div></div></div></div></div></div></div></div></div></div><div class=\"sk-item\"><div class=\"sk-estimator sk-toggleable\"><input class=\"sk-toggleable__control sk-hidden--visually\" id=\"sk-estimator-id-44\" type=\"checkbox\" ><label for=\"sk-estimator-id-44\" class=\"sk-toggleable__label sk-toggleable__label-arrow\">LogisticRegression</label><div class=\"sk-toggleable__content\"><pre>LogisticRegression()</pre></div></div></div></div></div></div></div>"
      ],
      "text/plain": [
       "Pipeline(steps=[('preprocessing',\n",
       "                 ColumnTransformer(transformers=[('preprocessing numerik',\n",
       "                                                  Pipeline(steps=[('imputasi',\n",
       "                                                                   SimpleImputer(strategy='median')),\n",
       "                                                                  ('scaling',\n",
       "                                                                   MinMaxScaler())]),\n",
       "                                                  ['city_development_index',\n",
       "                                                   'training_hours']),\n",
       "                                                 ('preprocessing kategori',\n",
       "                                                  Pipeline(steps=[('imputasi',\n",
       "                                                                   SimpleImputer(fill_value='missing',\n",
       "                                                                                 strategy='constant')),\n",
       "                                                                  ('encoding',\n",
       "                                                                   OneHotEncoder(drop='first',\n",
       "                                                                                 handle_unknown='ignore',\n",
       "                                                                                 sparse_output=False))]),\n",
       "                                                  ['city', 'gender',\n",
       "                                                   'relevent_experience',\n",
       "                                                   'enrolled_university',\n",
       "                                                   'education_level',\n",
       "                                                   'major_discipline',\n",
       "                                                   'experience', 'company_size',\n",
       "                                                   'company_type',\n",
       "                                                   'last_new_job'])])),\n",
       "                ('logreg', LogisticRegression())])"
      ]
     },
     "execution_count": 742,
     "metadata": {},
     "output_type": "execute_result"
    }
   ],
   "source": [
    "# Fitting ke training set\n",
    "mod_logreg.fit(X_train, y_train)"
   ]
  },
  {
   "cell_type": "code",
   "execution_count": 743,
   "metadata": {
    "id": "bxLTcgzg-DBO"
   },
   "outputs": [
    {
     "data": {
      "text/html": [
       "<div>\n",
       "<style scoped>\n",
       "    .dataframe tbody tr th:only-of-type {\n",
       "        vertical-align: middle;\n",
       "    }\n",
       "\n",
       "    .dataframe tbody tr th {\n",
       "        vertical-align: top;\n",
       "    }\n",
       "\n",
       "    .dataframe thead th {\n",
       "        text-align: right;\n",
       "    }\n",
       "</style>\n",
       "<table border=\"1\" class=\"dataframe\">\n",
       "  <thead>\n",
       "    <tr style=\"text-align: right;\">\n",
       "      <th></th>\n",
       "      <th>target</th>\n",
       "    </tr>\n",
       "  </thead>\n",
       "  <tbody>\n",
       "    <tr>\n",
       "      <th>0</th>\n",
       "      <td>0.0</td>\n",
       "    </tr>\n",
       "    <tr>\n",
       "      <th>1</th>\n",
       "      <td>0.0</td>\n",
       "    </tr>\n",
       "    <tr>\n",
       "      <th>2</th>\n",
       "      <td>0.0</td>\n",
       "    </tr>\n",
       "    <tr>\n",
       "      <th>3</th>\n",
       "      <td>1.0</td>\n",
       "    </tr>\n",
       "    <tr>\n",
       "      <th>4</th>\n",
       "      <td>0.0</td>\n",
       "    </tr>\n",
       "  </tbody>\n",
       "</table>\n",
       "</div>"
      ],
      "text/plain": [
       "   target\n",
       "0     0.0\n",
       "1     0.0\n",
       "2     0.0\n",
       "3     1.0\n",
       "4     0.0"
      ]
     },
     "execution_count": 743,
     "metadata": {},
     "output_type": "execute_result"
    }
   ],
   "source": [
    "# Mencoba memprediksi test set\n",
    "pred_test = mod_logreg.predict(X_test)\n",
    "\n",
    "# Merubahnya ke format Dataframe\n",
    "pred_test = pd.DataFrame(pred_test, columns=[target])\n",
    "\n",
    "# Melihat tmapilan y_pred\n",
    "pred_test.head()"
   ]
  },
  {
   "cell_type": "code",
   "execution_count": 745,
   "metadata": {
    "id": "AN7Zw1rkOKyi"
   },
   "outputs": [
    {
     "data": {
      "text/plain": [
       "array([[2488,  228],\n",
       "       [ 563,  324]], dtype=int64)"
      ]
     },
     "execution_count": 745,
     "metadata": {},
     "output_type": "execute_result"
    }
   ],
   "source": [
    "# Membuat Confusion Matrix\n",
    "cm_logreg = confusion_matrix(y_test, pred_test)\n",
    "cm_logreg"
   ]
  },
  {
   "cell_type": "code",
   "execution_count": 749,
   "metadata": {
    "id": "PGt0ulQ6-DBO"
   },
   "outputs": [
    {
     "data": {
      "image/png": "[encoded data removed]",
      "text/plain": [
       "<Figure size 640x480 with 2 Axes>"
      ]
     },
     "metadata": {},
     "output_type": "display_data"
    }
   ],
   "source": [
    "# Melihat confusion matrix dengan ConfusionMatrixDisplay()\n",
    "vis_cm = ConfusionMatrixDisplay(confusion_matrix = cm_logreg,\n",
    "                                display_labels = mod_logreg.classes_)\n",
    "vis_cm.plot(cmap=plt.cm.Blues); # cm adalah singkatan dari colormap\n",
    "\n",
    "# belajar di modul 24 di menit 1.48"
   ]
  },
  {
   "cell_type": "code",
   "execution_count": 528,
   "metadata": {
    "id": "16B-bvPq-DBP"
   },
   "outputs": [
    {
     "name": "stdout",
     "output_type": "stream",
     "text": [
      "              precision    recall  f1-score   support\n",
      "\n",
      "         0.0       0.82      0.92      0.86      2716\n",
      "         1.0       0.59      0.37      0.45       887\n",
      "\n",
      "    accuracy                           0.78      3603\n",
      "   macro avg       0.70      0.64      0.66      3603\n",
      "weighted avg       0.76      0.78      0.76      3603\n",
      "\n"
     ]
    }
   ],
   "source": [
    "# Melihat ringkasan evaluasi\n",
    "print(classification_report(y_test,pred_test))"
   ]
  },
  {
   "cell_type": "code",
   "execution_count": 529,
   "metadata": {
    "id": "NQjYjkd3v8nx"
   },
   "outputs": [
    {
     "name": "stdout",
     "output_type": "stream",
     "text": [
      "Nilai akurasi: 0.78\n",
      "Nilai presisi: 0.59\n",
      "Nilai recall: 0.37\n",
      "Nilai f1: 0.45\n",
      "Nilai AUC: 0.80\n"
     ]
    }
   ],
   "source": [
    "# Menghitung metrics klasifikasi satu per satu\n",
    "print('Nilai akurasi: {:.2f}'.format(accuracy_score(y_test, pred_test)))\n",
    "print('Nilai presisi: {:.2f}'.format(precision_score(y_test, pred_test)))\n",
    "print('Nilai recall: {:.2f}'.format(recall_score(y_test, pred_test)))\n",
    "print('Nilai f1: {:.2f}'.format(f1_score(y_test, pred_test)))\n",
    "print('Nilai AUC: {:.2f}'.format(roc_auc_score(y_test, mod_logreg.predict_proba(X_test)[:,1])))"
   ]
  },
  {
   "cell_type": "markdown",
   "metadata": {
    "id": "wMUutQzj-DBP"
   },
   "source": [
    "Proses pembuatan pipeline berhasil dan tidak memunculkan *error* , sekarang kita akan mendefinisikan beberapa model kemudian diikuti dengan *hyperparameter tuning*."
   ]
  },
  {
   "cell_type": "markdown",
   "metadata": {
    "id": "h8aZR8Uc-DBP"
   },
   "source": [
    "<br>"
   ]
  },
  {
   "cell_type": "markdown",
   "metadata": {
    "id": "LHDg9kKz-DBP"
   },
   "source": [
    "<br><hr><br>"
   ]
  },
  {
   "cell_type": "markdown",
   "metadata": {
    "id": "QlvHfeEl-DBP"
   },
   "source": [
    "## 1. Pipeline dan Cross Validation"
   ]
  },
  {
   "cell_type": "markdown",
   "metadata": {
    "id": "1UKsFpm4-DBP"
   },
   "source": [
    "### 1.1 *Logistic Regression*"
   ]
  },
  {
   "cell_type": "markdown",
   "metadata": {
    "id": "ylWYQADv-DBP"
   },
   "source": [
    "Dokumentasi: https://scikit-learn.org/stable/modules/generated/sklearn.linear_model.LogisticRegression.html"
   ]
  },
  {
   "cell_type": "code",
   "execution_count": 536,
   "metadata": {
    "id": "TFv7hoRH-DBP"
   },
   "outputs": [],
   "source": [
    "# Model regresi logistik\n",
    "logreg = LogisticRegression(random_state=0)\n",
    "\n",
    "# Pipeline model regresi logistik\n",
    "mod_logreg = Pipeline([\n",
    "    ('preprocessing', preprocessor),\n",
    "    ('logreg', logreg)\n",
    "])\n",
    "\n",
    "# Hyperparameter tuning Logistic Regression\n",
    "param_logreg = {'logreg__penalty': ['l2'],\n",
    "                'logreg__C': [0.01, 0.09, 0.1, 0.125, 1, 1.5],\n",
    "                'logreg__solver' : ['liblinear', 'newton-cg', 'sag', 'saga', 'lbfgs']\n",
    "               }"
   ]
  },
  {
   "cell_type": "markdown",
   "metadata": {
    "id": "RUpoVSqP-DBP"
   },
   "source": [
    "<br>"
   ]
  },
  {
   "cell_type": "markdown",
   "metadata": {
    "id": "1SWWeXq9-DBP"
   },
   "source": [
    "### 1.2 Stochastic Gradient Descent (SGD)"
   ]
  },
  {
   "cell_type": "markdown",
   "metadata": {
    "id": "SFYADhNK-DBP"
   },
   "source": [
    "Dokumentasi: https://scikit-learn.org/stable/modules/generated/sklearn.linear_model.SGDClassifier.html"
   ]
  },
  {
   "cell_type": "code",
   "execution_count": 540,
   "metadata": {
    "id": "tEQn3H3A-DBQ"
   },
   "outputs": [],
   "source": [
    "# Model sgd\n",
    "sgd = SGDClassifier(loss='log_loss', random_state=0)\n",
    "\n",
    "# Pipeline model sgd\n",
    "mod_sgd = Pipeline([\n",
    "    ('preprocessing', preprocessor),\n",
    "    ('sgd', sgd)\n",
    "])\n",
    "\n",
    "# Hyperparameter tuning sgd\n",
    "param_sgd = {'sgd__loss': ['log_loss', 'modified_huber', 'squared_hinge', 'perceptron'],\n",
    "             'sgd__penalty': ['l2', 'l1', 'elasticnet']\n",
    "             }"
   ]
  },
  {
   "cell_type": "markdown",
   "metadata": {
    "id": "hMPy2Ev7-DBQ"
   },
   "source": [
    "<br>"
   ]
  },
  {
   "cell_type": "markdown",
   "metadata": {
    "id": "KI6gBRA5-DBQ"
   },
   "source": [
    "### 1.3 *Decision Tree*"
   ]
  },
  {
   "cell_type": "markdown",
   "metadata": {
    "id": "frt8HepR-DBQ"
   },
   "source": [
    "Dokumentasi: https://scikit-learn.org/stable/modules/generated/sklearn.tree.DecisionTreeClassifier.html"
   ]
  },
  {
   "cell_type": "code",
   "execution_count": 544,
   "metadata": {
    "id": "ixOOYyXa-DBQ"
   },
   "outputs": [],
   "source": [
    "# Model DT\n",
    "dt = DecisionTreeClassifier(random_state= 0)\n",
    "\n",
    "# Pipeline model DT\n",
    "mod_dt = Pipeline([\n",
    "    ('preprocessing', preprocessor),\n",
    "    ('dt', dt)\n",
    "])\n",
    "\n",
    "# Hyperparameter tuning DT\n",
    "param_dt = {'dt__min_samples_split': [2, 3, 4],\n",
    "            'dt__min_samples_leaf': [1, 2, 3, 4],\n",
    "            'dt__criterion': ['gini', 'entropy','log_loss'],\n",
    "            'dt__max_depth':[1,2,3,4]\n",
    "           }"
   ]
  },
  {
   "cell_type": "markdown",
   "metadata": {
    "id": "-uzOt1m5-DBQ"
   },
   "source": [
    "<br>"
   ]
  },
  {
   "cell_type": "markdown",
   "metadata": {
    "id": "jXW7Xi3q-DBQ"
   },
   "source": [
    "### 1.4 SVM"
   ]
  },
  {
   "cell_type": "markdown",
   "metadata": {
    "id": "Bps1tu-0-DBQ"
   },
   "source": [
    "Dokumentasi: https://scikit-learn.org/stable/modules/generated/sklearn.svm.SVC.html"
   ]
  },
  {
   "cell_type": "code",
   "execution_count": 548,
   "metadata": {
    "id": "dPo8I4b--DBQ"
   },
   "outputs": [],
   "source": [
    "# Model SVM\n",
    "svm = SVC(kernel = 'rbf', probability=True, random_state = 0)\n",
    "\n",
    "# Pipeline model SVM\n",
    "mod_svm = Pipeline([\n",
    "    ('preprocessing', preprocessor),\n",
    "    ('svm', svm)\n",
    "])\n",
    "\n",
    "# Hyperparameter tuning SVM\n",
    "param_svm = {'svm__C': [0.1, 0.2, 0.3, 0.4, 0.5, 0.6, 1],\n",
    "             'svm__gamma': [1, 0.1, 0.01, 0.001, 0.0001],\n",
    "             'svm__degree': [1, 2, 3, 4, 5],\n",
    "             'svm__kernel': ['linear', 'poly', 'rbf', 'sigmoid']\n",
    "            }"
   ]
  },
  {
   "cell_type": "markdown",
   "metadata": {
    "id": "S0JiWv85-DBQ"
   },
   "source": [
    "<br>"
   ]
  },
  {
   "cell_type": "markdown",
   "metadata": {
    "id": "SmVNCmbZ-DBQ"
   },
   "source": [
    "### 1.5 KNN"
   ]
  },
  {
   "cell_type": "markdown",
   "metadata": {
    "id": "oSYzREvW-DBQ"
   },
   "source": [
    "Dokumentasi: https://scikit-learn.org/stable/modules/generated/sklearn.neighbors.KNeighborsClassifier.html"
   ]
  },
  {
   "cell_type": "code",
   "execution_count": 552,
   "metadata": {
    "id": "9BNxKpXt-DBQ"
   },
   "outputs": [],
   "source": [
    "# Model KNN\n",
    "knn = KNeighborsClassifier()\n",
    "\n",
    "# Pipeline model KNN\n",
    "mod_knn = Pipeline([\n",
    "    ('preprocessing', preprocessor),\n",
    "    ('knn', knn),\n",
    "])\n",
    "\n",
    "# Hyperparameter tuning KNN\n",
    "param_knn = {'knn__n_neighbors': [1, 2, 3, 4, 5],\n",
    "             'knn__weights': ['uniform', 'distance'],\n",
    "             'knn__algorithm': ['auto', 'ball_tree', 'kd_tree', 'brute']\n",
    "            }"
   ]
  },
  {
   "cell_type": "markdown",
   "metadata": {
    "id": "sYGMZafH-DBQ"
   },
   "source": [
    "<br>"
   ]
  },
  {
   "cell_type": "markdown",
   "metadata": {
    "id": "nLn9IcvE-DBR"
   },
   "source": [
    "### 1.6 Gaussian Process Classifier (GPC)"
   ]
  },
  {
   "cell_type": "markdown",
   "metadata": {
    "id": "F3zyJd_--DBR"
   },
   "source": [
    "Dokumentasi: https://scikit-learn.org/stable/modules/generated/sklearn.gaussian_process.GaussianProcessClassifier.html"
   ]
  },
  {
   "cell_type": "code",
   "execution_count": 556,
   "metadata": {
    "id": "STN3l9H2-DBR"
   },
   "outputs": [],
   "source": [
    "# Model GPC\n",
    "gpc = GaussianProcessClassifier(random_state=0)\n",
    "\n",
    "# Pipeline model GPC\n",
    "mod_gpc = Pipeline([\n",
    "    ('preprocessing', preprocessor),\n",
    "    ('gpc', gpc),\n",
    "])\n",
    "\n",
    "# Hyperparameter tuning GPC\n",
    "param_gpc = {'gpc__max_iter_predict': [100, 200, 300],\n",
    "             'gpc__n_restarts_optimizer': [0, 5, 10]\n",
    "            }"
   ]
  },
  {
   "cell_type": "markdown",
   "metadata": {
    "id": "ozxt7q3o-DBR"
   },
   "source": [
    "<br>"
   ]
  },
  {
   "cell_type": "markdown",
   "metadata": {
    "id": "vQ8J3UJ4-DBR"
   },
   "source": [
    "### 1.7 Naive Bayes"
   ]
  },
  {
   "cell_type": "markdown",
   "metadata": {
    "id": "OaNb_MpY-DBR"
   },
   "source": [
    "Dokumentasi: https://scikit-learn.org/stable/modules/generated/sklearn.naive_bayes.GaussianNB.html"
   ]
  },
  {
   "cell_type": "code",
   "execution_count": 560,
   "metadata": {
    "id": "WLyGCSnd-DBR"
   },
   "outputs": [],
   "source": [
    "# Model Naive Bayes\n",
    "naive = GaussianNB()\n",
    "\n",
    "# Pipeline model Naive Bayes\n",
    "mod_naive = Pipeline([\n",
    "    ('preprocessing', preprocessor),\n",
    "    ('naive', naive),\n",
    "])\n",
    "\n",
    "# Hyperparameter tuning Naive Bayes\n",
    "param_naive = {'naive__var_smoothing': np.logspace(0,-9, num=100)}"
   ]
  },
  {
   "cell_type": "markdown",
   "metadata": {
    "id": "8-RJHtsp-DBR"
   },
   "source": [
    "<br>"
   ]
  },
  {
   "cell_type": "markdown",
   "metadata": {
    "id": "0eFuBYxB-DBR"
   },
   "source": [
    "### 1.8 *Random Forest*"
   ]
  },
  {
   "cell_type": "markdown",
   "metadata": {
    "id": "2a4vzTFG-DBR"
   },
   "source": [
    "Dokumentasi: https://scikit-learn.org/stable/modules/generated/sklearn.ensemble.RandomForestClassifier.html"
   ]
  },
  {
   "cell_type": "code",
   "execution_count": 564,
   "metadata": {
    "id": "5O1TXID3-DBR"
   },
   "outputs": [],
   "source": [
    "# Model RF\n",
    "rf = RandomForestClassifier(random_state=0, n_jobs=-1)\n",
    "\n",
    "# Pipeline model RF\n",
    "mod_rf = Pipeline([\n",
    "    ('preprocessing', preprocessor),\n",
    "    ('rf', rf),\n",
    "])\n",
    "\n",
    "# Hyperparameter tuning RF\n",
    "param_rf = {'rf__n_estimators': [200, 250, 300],\n",
    "            'rf__criterion': ['gini', 'entropy', 'log_loss'],\n",
    "            'rf__max_depth': [1, 2, 3, 4],\n",
    "            'rf__min_samples_split': [2, 3],\n",
    "            'rf__min_samples_leaf': [1, 2, 3],\n",
    "            'rf__warm_start': [True]\n",
    "            }"
   ]
  },
  {
   "cell_type": "markdown",
   "metadata": {
    "id": "5zVueFd--DBR"
   },
   "source": [
    "<br>"
   ]
  },
  {
   "cell_type": "markdown",
   "metadata": {
    "id": "qI8GsGwL-DBR"
   },
   "source": [
    "### 1.9 AdaBoost"
   ]
  },
  {
   "cell_type": "markdown",
   "metadata": {
    "id": "XoGn4Htk-DBR"
   },
   "source": [
    "Dokumentasi: https://scikit-learn.org/stable/modules/generated/sklearn.ensemble.AdaBoostClassifier.html"
   ]
  },
  {
   "cell_type": "code",
   "execution_count": 568,
   "metadata": {
    "id": "zF9ZjEd6-DBR"
   },
   "outputs": [],
   "source": [
    "# Model AdaBoost\n",
    "ada = AdaBoostClassifier(random_state=0)\n",
    "\n",
    "# Pipeline model AdaBoost\n",
    "mod_ada = Pipeline([\n",
    "    ('preprocessing', preprocessor),\n",
    "    ('ada', ada),\n",
    "])\n",
    "\n",
    "# Hyperparameter tuning AdaBoost\n",
    "param_ada = {'ada__n_estimators': [10, 20, 30, 50, 70],\n",
    "             'ada__learning_rate': [0.3, 0.4, 0.5, 1, 1.1],\n",
    "             'ada__algorithm': ['SAMME', 'SAMME.R'],\n",
    "             }"
   ]
  },
  {
   "cell_type": "markdown",
   "metadata": {
    "id": "4mJtoj7d-DBR"
   },
   "source": [
    "<br>"
   ]
  },
  {
   "cell_type": "markdown",
   "metadata": {
    "id": "Qj5PVcaV-DBR"
   },
   "source": [
    "### 1.10 Gradient Boosting"
   ]
  },
  {
   "cell_type": "markdown",
   "metadata": {
    "id": "6yHvWiKa-DBR"
   },
   "source": [
    "Dokumentasi: https://scikit-learn.org/stable/modules/generated/sklearn.ensemble.GradientBoostingClassifier.html"
   ]
  },
  {
   "cell_type": "code",
   "execution_count": 572,
   "metadata": {
    "id": "xCjCRkB--DBR"
   },
   "outputs": [],
   "source": [
    "# Model regresi XGBoost\n",
    "gb = GradientBoostingClassifier(random_state=0)\n",
    "\n",
    "# Pipeline model regresi XGBoost\n",
    "mod_gb = Pipeline([\n",
    "    ('preprocessing', preprocessor),\n",
    "    ('gb',gb)\n",
    "])\n",
    "\n",
    "# Hyperparameter tuning regresi XGBoost\n",
    "param_gb = {'gb__loss': ['log_loss', 'exponential'],\n",
    "            'gb__learning_rate': [0.1, 0.3, 0.4, 0.5, 1, 1.1],\n",
    "            'gb__n_estimators': [10, 20, 30, 50, 70]}"
   ]
  },
  {
   "cell_type": "markdown",
   "metadata": {
    "id": "2YC5EzOt-DBR"
   },
   "source": [
    "<br>"
   ]
  },
  {
   "cell_type": "markdown",
   "metadata": {
    "id": "ssU_DwBu-DBR"
   },
   "source": [
    "### 1.11 XGBoost"
   ]
  },
  {
   "cell_type": "markdown",
   "metadata": {
    "id": "C6OjyxKY-DBR"
   },
   "source": [
    "Dokumentasi: https://xgboost.readthedocs.io/en/stable/python/python_api.html#xgboost.XGBClassifier"
   ]
  },
  {
   "cell_type": "code",
   "execution_count": 576,
   "metadata": {
    "id": "ai_AsUub-DBS"
   },
   "outputs": [],
   "source": [
    "# Model regresi LightGBM\n",
    "xgb = XGBClassifier(eval_metric='logloss', random_state=0)\n",
    "\n",
    "# pipeline model\n",
    "mod_xgb = Pipeline([\n",
    "    ('preprocessing', preprocessor),\n",
    "    ('xgb', xgb),\n",
    "])\n",
    "\n",
    "# hyperparameter tuning\n",
    "param_xgb = {'xgb__learning_rate': [0.05, 0.1, 0.2],\n",
    "             'xgb__max_depth': [5, 7, 9],\n",
    "             'xgb__gamma': [0, 0.1, 0.2]\n",
    "            }"
   ]
  },
  {
   "cell_type": "markdown",
   "metadata": {
    "id": "iHfrUeeN-DBS"
   },
   "source": [
    "<br>"
   ]
  },
  {
   "cell_type": "markdown",
   "metadata": {
    "id": "LQ038-Zw-DBS"
   },
   "source": [
    "### 1.12 Multi Layer Perceptron (MLP)"
   ]
  },
  {
   "cell_type": "markdown",
   "metadata": {
    "id": "dYOYVU5--DBS"
   },
   "source": [
    "Dokumentasi: https://scikit-learn.org/stable/modules/generated/sklearn.neural_network.MLPClassifier.html"
   ]
  },
  {
   "cell_type": "code",
   "execution_count": 580,
   "metadata": {
    "id": "TwpyYRe4-DBS"
   },
   "outputs": [],
   "source": [
    "# Model regresi MLP\n",
    "mlp = MLPClassifier(random_state=0, max_iter=5000)\n",
    "\n",
    "# Pipeline model regresi MLP\n",
    "mod_mlp = Pipeline([\n",
    "    ('preprocessing', preprocessor),\n",
    "    ('mlp', mlp)\n",
    "    ])\n",
    "\n",
    "# Hyperparameter tuning regresi MLP\n",
    "param_mlp = {'mlp__hidden_layer_sizes': [(100,),(200,),(300,),(400,)],\n",
    "             'mlp__activation':['identity', 'logistic', 'tanh', 'relu'],\n",
    "             'mlp__solver':['sgd', 'adam']\n",
    "             }"
   ]
  },
  {
   "cell_type": "markdown",
   "metadata": {
    "id": "S3vot5kM-DBS"
   },
   "source": [
    "<br>"
   ]
  },
  {
   "cell_type": "markdown",
   "metadata": {
    "id": "NjYgRrA7-DBS"
   },
   "source": [
    "Sekarang saatnya melakukan model *training* dengan *cross validation*.\n",
    "\n",
    "Daftar metrik yang bisa dipakai menggunakan perintah <code>cross_val_score()</code>:<br>\n",
    "https://scikit-learn.org/stable/modules/model_evaluation.html"
   ]
  },
  {
   "cell_type": "code",
   "execution_count": 583,
   "metadata": {
    "id": "dQknSAGK-DBS"
   },
   "outputs": [
    {
     "name": "stderr",
     "output_type": "stream",
     "text": [
      "[Parallel(n_jobs=-1)]: Using backend LokyBackend with 8 concurrent workers.\n",
      "[Parallel(n_jobs=-1)]: Done   2 out of   5 | elapsed:   15.8s remaining:   23.7s\n",
      "[Parallel(n_jobs=-1)]: Done   5 out of   5 | elapsed:   15.9s finished\n",
      "[Parallel(n_jobs=-1)]: Using backend LokyBackend with 8 concurrent workers.\n",
      "[Parallel(n_jobs=-1)]: Done   2 out of   5 | elapsed:   11.9s remaining:   17.9s\n",
      "[Parallel(n_jobs=-1)]: Done   5 out of   5 | elapsed:   13.5s finished\n",
      "[Parallel(n_jobs=-1)]: Using backend LokyBackend with 8 concurrent workers.\n",
      "[Parallel(n_jobs=-1)]: Done   2 out of   5 | elapsed:    1.0s remaining:    1.5s\n",
      "[Parallel(n_jobs=-1)]: Done   5 out of   5 | elapsed:    1.0s finished\n",
      "[Parallel(n_jobs=-1)]: Using backend LokyBackend with 8 concurrent workers.\n",
      "[Parallel(n_jobs=-1)]: Done   2 out of   5 | elapsed:    1.1s remaining:    1.7s\n",
      "[Parallel(n_jobs=-1)]: Done   5 out of   5 | elapsed:    1.1s finished\n"
     ]
    }
   ],
   "source": [
    "# Model training dengan cross validation\n",
    "#daftar_model = [mod_logreg, mod_sgd, mod_dt, mod_svm, mod_knn, mod_gpc, mod_naive, mod_rf, mod_ada, mod_gb, mod_xgb, mod_mlp]\n",
    "#daftar_nama_model = ['logreg', 'sgd', 'dt', 'svm', 'knn', 'gpc', 'naive', 'rf', 'ada', 'gb', 'xgb', 'mlp']\n",
    "daftar_model = [mod_gb, mod_xgb]\n",
    "daftar_nama_model = ['gb','xgb']\n",
    "mean_akurasi = []\n",
    "mean_auc = []\n",
    "std_akurasi = []\n",
    "std_auc = []\n",
    "test_score_akurasi = []\n",
    "test_score_auc = []\n",
    "\n",
    "# Kita setting agar proses cross validasi dilakukan dengan sama rata (stratified) untuk pembagian kategori labelnya\n",
    "skf = StratifiedKFold(n_splits=cv, random_state=0, shuffle=True)\n",
    "cv = skf\n",
    "\n",
    "# Looping untuk setiap model yang sudah disiapkan \n",
    "for i in daftar_model:\n",
    "    \n",
    "    # Melakukan cross validation dan menggunakan kriteria berdasarkan skor akurasi\n",
    "    cv_akurasi = cross_val_score(i, X_train, y_train, cv=cv, scoring='accuracy', verbose=1, n_jobs=-1)  # kita kalikan dengan -1 karena scoring menggunakan nilai negatif\n",
    "    cv_auc = cross_val_score(i, X_train, y_train, cv=cv, scoring='roc_auc', verbose=1, n_jobs=-1)\n",
    "    \n",
    "    # Menghitung nilai rata-rata akurasi dan menambahkannya ke variabel mean_akurasi\n",
    "    mean_akurasi.append(round(cv_akurasi.mean(),2))   # round(nilai,2) untuk membulatkan nilai 2 angka di belakang koma\n",
    "    mean_auc.append(round(cv_auc.mean(),2))\n",
    "\n",
    "    # Menghitung nilai standar deviasi akurasi dan menambahkannya ke variabel std_akurasi\n",
    "    std_akurasi.append(round(cv_akurasi.std(),2))\n",
    "    std_auc.append(round(cv_auc.std(),2))\n",
    "    \n",
    "    # Melakukan fitting training set kemudian melakukan prediksi  di test set\n",
    "    i.fit(X_train, y_train)\n",
    "    i_predict = i.predict(X_test)\n",
    "    i_predict_proba = i.predict_proba(X_test)[:,1]\n",
    "    \n",
    "    # Menghitung nilai rata-rata akurasi di test set dan menambahkannya ke variabel test_score_akurasi\n",
    "    test_score_akurasi.append(round(accuracy_score(y_test, i_predict),2))\n",
    "    test_score_auc.append(round(roc_auc_score(y_test, i_predict_proba),2))"
   ]
  },
  {
   "cell_type": "code",
   "execution_count": 584,
   "metadata": {
    "id": "-kHjfUED-DBS"
   },
   "outputs": [],
   "source": [
    "# Membuat DataFrame\n",
    "cv_akurasi = pd.DataFrame({'model':daftar_nama_model, 'Train_Mean':mean_akurasi, 'std':std_akurasi, 'Test_Score':test_score_akurasi})\n",
    "cv_auc = pd.DataFrame({'model':daftar_nama_model, 'Train_Mean':mean_auc, 'std':std_auc, 'Test_Score':test_score_auc})"
   ]
  },
  {
   "cell_type": "code",
   "execution_count": 585,
   "metadata": {
    "id": "SOQWFrcY-DBS"
   },
   "outputs": [
    {
     "data": {
      "text/html": [
       "<div>\n",
       "<style scoped>\n",
       "    .dataframe tbody tr th:only-of-type {\n",
       "        vertical-align: middle;\n",
       "    }\n",
       "\n",
       "    .dataframe tbody tr th {\n",
       "        vertical-align: top;\n",
       "    }\n",
       "\n",
       "    .dataframe thead th {\n",
       "        text-align: right;\n",
       "    }\n",
       "</style>\n",
       "<table border=\"1\" class=\"dataframe\">\n",
       "  <thead>\n",
       "    <tr style=\"text-align: right;\">\n",
       "      <th></th>\n",
       "      <th>model</th>\n",
       "      <th>Train_Mean</th>\n",
       "      <th>std</th>\n",
       "      <th>Test_Score</th>\n",
       "    </tr>\n",
       "  </thead>\n",
       "  <tbody>\n",
       "    <tr>\n",
       "      <th>0</th>\n",
       "      <td>gb</td>\n",
       "      <td>0.80</td>\n",
       "      <td>0.01</td>\n",
       "      <td>0.80</td>\n",
       "    </tr>\n",
       "    <tr>\n",
       "      <th>1</th>\n",
       "      <td>xgb</td>\n",
       "      <td>0.79</td>\n",
       "      <td>0.01</td>\n",
       "      <td>0.79</td>\n",
       "    </tr>\n",
       "  </tbody>\n",
       "</table>\n",
       "</div>"
      ],
      "text/plain": [
       "  model  Train_Mean   std  Test_Score\n",
       "0    gb        0.80  0.01        0.80\n",
       "1   xgb        0.79  0.01        0.79"
      ]
     },
     "execution_count": 585,
     "metadata": {},
     "output_type": "execute_result"
    }
   ],
   "source": [
    "# Melihat hasil cross validation berdasarkan akurasi\n",
    "cv_akurasi"
   ]
  },
  {
   "cell_type": "code",
   "execution_count": 586,
   "metadata": {
    "id": "xQb1pst9-DBS"
   },
   "outputs": [
    {
     "data": {
      "text/html": [
       "<div>\n",
       "<style scoped>\n",
       "    .dataframe tbody tr th:only-of-type {\n",
       "        vertical-align: middle;\n",
       "    }\n",
       "\n",
       "    .dataframe tbody tr th {\n",
       "        vertical-align: top;\n",
       "    }\n",
       "\n",
       "    .dataframe thead th {\n",
       "        text-align: right;\n",
       "    }\n",
       "</style>\n",
       "<table border=\"1\" class=\"dataframe\">\n",
       "  <thead>\n",
       "    <tr style=\"text-align: right;\">\n",
       "      <th></th>\n",
       "      <th>model</th>\n",
       "      <th>Train_Mean</th>\n",
       "      <th>std</th>\n",
       "      <th>Test_Score</th>\n",
       "    </tr>\n",
       "  </thead>\n",
       "  <tbody>\n",
       "    <tr>\n",
       "      <th>0</th>\n",
       "      <td>gb</td>\n",
       "      <td>0.80</td>\n",
       "      <td>0.01</td>\n",
       "      <td>0.81</td>\n",
       "    </tr>\n",
       "    <tr>\n",
       "      <th>1</th>\n",
       "      <td>xgb</td>\n",
       "      <td>0.79</td>\n",
       "      <td>0.01</td>\n",
       "      <td>0.80</td>\n",
       "    </tr>\n",
       "  </tbody>\n",
       "</table>\n",
       "</div>"
      ],
      "text/plain": [
       "  model  Train_Mean   std  Test_Score\n",
       "0    gb        0.80  0.01        0.81\n",
       "1   xgb        0.79  0.01        0.80"
      ]
     },
     "execution_count": 586,
     "metadata": {},
     "output_type": "execute_result"
    }
   ],
   "source": [
    "# Melihat hasil cross validation berdasarkan akurasi\n",
    "cv_auc"
   ]
  },
  {
   "cell_type": "code",
   "execution_count": 587,
   "metadata": {
    "id": "E0-jq2Nz-DBS"
   },
   "outputs": [
    {
     "data": {
      "text/html": [
       "<div>\n",
       "<style scoped>\n",
       "    .dataframe tbody tr th:only-of-type {\n",
       "        vertical-align: middle;\n",
       "    }\n",
       "\n",
       "    .dataframe tbody tr th {\n",
       "        vertical-align: top;\n",
       "    }\n",
       "\n",
       "    .dataframe thead th {\n",
       "        text-align: right;\n",
       "    }\n",
       "</style>\n",
       "<table border=\"1\" class=\"dataframe\">\n",
       "  <thead>\n",
       "    <tr style=\"text-align: right;\">\n",
       "      <th></th>\n",
       "      <th>model</th>\n",
       "      <th>Train_Mean</th>\n",
       "      <th>std</th>\n",
       "      <th>Test_Score</th>\n",
       "    </tr>\n",
       "  </thead>\n",
       "  <tbody>\n",
       "    <tr>\n",
       "      <th>0</th>\n",
       "      <td>gb</td>\n",
       "      <td>0.80</td>\n",
       "      <td>0.01</td>\n",
       "      <td>0.80</td>\n",
       "    </tr>\n",
       "    <tr>\n",
       "      <th>1</th>\n",
       "      <td>xgb</td>\n",
       "      <td>0.79</td>\n",
       "      <td>0.01</td>\n",
       "      <td>0.79</td>\n",
       "    </tr>\n",
       "  </tbody>\n",
       "</table>\n",
       "</div>"
      ],
      "text/plain": [
       "  model  Train_Mean   std  Test_Score\n",
       "0    gb        0.80  0.01        0.80\n",
       "1   xgb        0.79  0.01        0.79"
      ]
     },
     "execution_count": 587,
     "metadata": {},
     "output_type": "execute_result"
    }
   ],
   "source": [
    "# Mengurutkan skor dari kecil ke besar berdasarkan skor akurasi\n",
    "cv_akurasi_urut = cv_akurasi.sort_values(by=['Train_Mean', 'Test_Score'], ascending=False,  ignore_index=True)\n",
    "cv_akurasi_urut"
   ]
  },
  {
   "cell_type": "code",
   "execution_count": 588,
   "metadata": {
    "id": "zbZrYInu-DBS"
   },
   "outputs": [
    {
     "data": {
      "text/html": [
       "<div>\n",
       "<style scoped>\n",
       "    .dataframe tbody tr th:only-of-type {\n",
       "        vertical-align: middle;\n",
       "    }\n",
       "\n",
       "    .dataframe tbody tr th {\n",
       "        vertical-align: top;\n",
       "    }\n",
       "\n",
       "    .dataframe thead th {\n",
       "        text-align: right;\n",
       "    }\n",
       "</style>\n",
       "<table border=\"1\" class=\"dataframe\">\n",
       "  <thead>\n",
       "    <tr style=\"text-align: right;\">\n",
       "      <th></th>\n",
       "      <th>model</th>\n",
       "      <th>Train_Mean</th>\n",
       "      <th>std</th>\n",
       "      <th>Test_Score</th>\n",
       "    </tr>\n",
       "  </thead>\n",
       "  <tbody>\n",
       "    <tr>\n",
       "      <th>0</th>\n",
       "      <td>gb</td>\n",
       "      <td>0.80</td>\n",
       "      <td>0.01</td>\n",
       "      <td>0.81</td>\n",
       "    </tr>\n",
       "    <tr>\n",
       "      <th>1</th>\n",
       "      <td>xgb</td>\n",
       "      <td>0.79</td>\n",
       "      <td>0.01</td>\n",
       "      <td>0.80</td>\n",
       "    </tr>\n",
       "  </tbody>\n",
       "</table>\n",
       "</div>"
      ],
      "text/plain": [
       "  model  Train_Mean   std  Test_Score\n",
       "0    gb        0.80  0.01        0.81\n",
       "1   xgb        0.79  0.01        0.80"
      ]
     },
     "execution_count": 588,
     "metadata": {},
     "output_type": "execute_result"
    }
   ],
   "source": [
    "# Mengurutkan skor dari kecil ke besar berdasarkan skor AUC\n",
    "cv_auc_urut = cv_auc.sort_values(by=['Train_Mean', 'Test_Score'], ascending=False,  ignore_index=True)\n",
    "cv_auc_urut"
   ]
  },
  {
   "cell_type": "markdown",
   "metadata": {
    "id": "zo1ATeQF-DBS"
   },
   "source": [
    "<br>"
   ]
  },
  {
   "cell_type": "markdown",
   "metadata": {
    "id": "aXt5oeQk-DBS"
   },
   "source": [
    "## 2. Hyperparameter Tuning"
   ]
  },
  {
   "cell_type": "markdown",
   "metadata": {
    "id": "ntRW4UVn-DBS"
   },
   "source": [
    "Kita sudah melihat bahwa model gb yang terbaik dibanding semua model, berdasarkan skor akurasi yang tinggi dan skor auc yang tinggi pula.\n",
    "\n",
    "Namun semua model yang dibandingkan menggunakan *hyperparameter* default.\n",
    "\n",
    "Kita akan coba membandingkan kembali semua model tersebut dengan *setting*an *hyperparameter* yang sudah kita *tuning* dengan menggunakan <code>GridSearchCV()</code>.\n",
    "\n",
    "<code>GridSearchCV()</code> akan mengevaluasi semua settingan dari *hyperparameter* yang sudah disiapkan dan mempertahankan *setting*-an terbaik sampai selesai (setelah mencoba semua kombinasi *hyperparameter* dan semua *fold* di *cross validation*)."
   ]
  },
  {
   "cell_type": "code",
   "execution_count": 609,
   "metadata": {
    "id": "ISjs7bkO-DBS"
   },
   "outputs": [
    {
     "name": "stdout",
     "output_type": "stream",
     "text": [
      "Fitting 5 folds for each of 60 candidates, totalling 300 fits\n",
      "Fitting 5 folds for each of 27 candidates, totalling 135 fits\n"
     ]
    }
   ],
   "source": [
    "# Model training dengan GridSearchCV\n",
    "daftar_model = [mod_gb, mod_xgb]\n",
    "daftar_nama_model = ['gb', 'xgb']\n",
    "daftar_param_model = [param_gb, param_xgb]\n",
    "\n",
    "\n",
    "# Nilai yang akan diisikan\n",
    "akurasi_tuning = []\n",
    "akurasi_tuning_test = []\n",
    "auc_tuning = []\n",
    "auc_tuning_test = []\n",
    "best_param = []\n",
    "best_estimator = []\n",
    "\n",
    "for i in range(len(daftar_model)):\n",
    "\n",
    "    # Menjalankan GridSearchCV\n",
    "    model_grid_cv = GridSearchCV(\n",
    "        daftar_model[i],\n",
    "        daftar_param_model[i],\n",
    "        cv=cv,\n",
    "        scoring='accuracy',  # nilai akurasi digunakan sebagai dasar penentuan peringkat parameter terbaik dan parameter scoring ini bisa diganti yang lain\n",
    "        verbose=1,\n",
    "        n_jobs=-1\n",
    "        )\n",
    "\n",
    "    # Fitting ke training set\n",
    "    model_grid_cv.fit(X_train,y_train)\n",
    "    \n",
    "    # Mencoba memprediksi training dan test set setelah fitting di training set, kemudian dikemas dalam format DataFrame\n",
    "    pred_train = pd.DataFrame(model_grid_cv.predict(X_train), columns=[target])\n",
    "    pred_test = pd.DataFrame(model_grid_cv.predict(X_test), columns=[target])\n",
    "\n",
    "    # Mencatat skor akurasi training dan test set\n",
    "    akurasi_tuning.append(accuracy_score(y_train, pred_train))\n",
    "    akurasi_tuning_test.append(accuracy_score(y_test, pred_test))\n",
    "\n",
    "    # Mencatat skor AUC training dan test set\n",
    "    auc_tuning.append(roc_auc_score(y_train, model_grid_cv.predict_proba(X_train)[:,1]))\n",
    "    auc_tuning_test.append(roc_auc_score(y_test, model_grid_cv.predict_proba(X_test)[:,1])) \n",
    "    \n",
    "    # Mencatat parameter terbaik di setiap model\n",
    "    best_param.append(model_grid_cv.best_params_)\n",
    "    \n",
    "    # Merekam settingan modelnya\n",
    "    best_estimator.append(model_grid_cv.best_estimator_)"
   ]
  },
  {
   "cell_type": "code",
   "execution_count": 610,
   "metadata": {
    "id": "cb_SS6Kk-DBS"
   },
   "outputs": [],
   "source": [
    "# Membuat DataFrame sekaligus kita urutkan\n",
    "grid_akurasi = pd.DataFrame({'model':daftar_nama_model, 'Training':akurasi_tuning, 'Testing':akurasi_tuning_test})\n",
    "grid_akurasi_urut = grid_akurasi.sort_values(by='Testing', ascending=False,  ignore_index=True)\n",
    "\n",
    "grid_auc = pd.DataFrame({'model':daftar_nama_model, 'Training':auc_tuning, 'Testing':auc_tuning_test})\n",
    "grid_auc_urut = grid_auc.sort_values(by='Testing', ascending=False, ignore_index=True)"
   ]
  },
  {
   "cell_type": "markdown",
   "metadata": {
    "id": "Wk0dHoOY-DBS"
   },
   "source": [
    "Kita pilih model terbaik berdasarkan performanya di *Test Set*."
   ]
  },
  {
   "cell_type": "code",
   "execution_count": 613,
   "metadata": {
    "id": "UhKavpV4-DBT"
   },
   "outputs": [
    {
     "data": {
      "text/html": [
       "<div>\n",
       "<style scoped>\n",
       "    .dataframe tbody tr th:only-of-type {\n",
       "        vertical-align: middle;\n",
       "    }\n",
       "\n",
       "    .dataframe tbody tr th {\n",
       "        vertical-align: top;\n",
       "    }\n",
       "\n",
       "    .dataframe thead th {\n",
       "        text-align: right;\n",
       "    }\n",
       "</style>\n",
       "<table border=\"1\" class=\"dataframe\">\n",
       "  <thead>\n",
       "    <tr style=\"text-align: right;\">\n",
       "      <th></th>\n",
       "      <th>model</th>\n",
       "      <th>Training</th>\n",
       "      <th>Testing</th>\n",
       "    </tr>\n",
       "  </thead>\n",
       "  <tbody>\n",
       "    <tr>\n",
       "      <th>0</th>\n",
       "      <td>xgb</td>\n",
       "      <td>0.836375</td>\n",
       "      <td>0.801832</td>\n",
       "    </tr>\n",
       "    <tr>\n",
       "      <th>1</th>\n",
       "      <td>gb</td>\n",
       "      <td>0.804524</td>\n",
       "      <td>0.796558</td>\n",
       "    </tr>\n",
       "  </tbody>\n",
       "</table>\n",
       "</div>"
      ],
      "text/plain": [
       "  model  Training   Testing\n",
       "0   xgb  0.836375  0.801832\n",
       "1    gb  0.804524  0.796558"
      ]
     },
     "execution_count": 613,
     "metadata": {},
     "output_type": "execute_result"
    }
   ],
   "source": [
    "# Melihat performa tuning berdasarkan akurasi\n",
    "grid_akurasi_urut"
   ]
  },
  {
   "cell_type": "markdown",
   "metadata": {
    "id": "kNh23ewc-DBT"
   },
   "source": [
    "Perlu diperhatikan bahwa skor akurasi di kolom *Training* di atas adalah skor akurasi rata-rata dari *cross validation*. Begitu juga untuk nilai akurasi di kolom *Testing*."
   ]
  },
  {
   "cell_type": "code",
   "execution_count": 615,
   "metadata": {
    "id": "FLjXJTds-DBT"
   },
   "outputs": [
    {
     "data": {
      "text/html": [
       "<div>\n",
       "<style scoped>\n",
       "    .dataframe tbody tr th:only-of-type {\n",
       "        vertical-align: middle;\n",
       "    }\n",
       "\n",
       "    .dataframe tbody tr th {\n",
       "        vertical-align: top;\n",
       "    }\n",
       "\n",
       "    .dataframe thead th {\n",
       "        text-align: right;\n",
       "    }\n",
       "</style>\n",
       "<table border=\"1\" class=\"dataframe\">\n",
       "  <thead>\n",
       "    <tr style=\"text-align: right;\">\n",
       "      <th></th>\n",
       "      <th>model</th>\n",
       "      <th>Training</th>\n",
       "      <th>Testing</th>\n",
       "    </tr>\n",
       "  </thead>\n",
       "  <tbody>\n",
       "    <tr>\n",
       "      <th>0</th>\n",
       "      <td>xgb</td>\n",
       "      <td>0.869856</td>\n",
       "      <td>0.807348</td>\n",
       "    </tr>\n",
       "    <tr>\n",
       "      <th>1</th>\n",
       "      <td>gb</td>\n",
       "      <td>0.817549</td>\n",
       "      <td>0.804885</td>\n",
       "    </tr>\n",
       "  </tbody>\n",
       "</table>\n",
       "</div>"
      ],
      "text/plain": [
       "  model  Training   Testing\n",
       "0   xgb  0.869856  0.807348\n",
       "1    gb  0.817549  0.804885"
      ]
     },
     "execution_count": 615,
     "metadata": {},
     "output_type": "execute_result"
    }
   ],
   "source": [
    "# Melihat performa tuning berdasarkan AUC\n",
    "grid_auc_urut"
   ]
  },
  {
   "cell_type": "code",
   "execution_count": 617,
   "metadata": {
    "id": "PNAzHC_C-DBT"
   },
   "outputs": [
    {
     "data": {
      "text/html": [
       "<div>\n",
       "<style scoped>\n",
       "    .dataframe tbody tr th:only-of-type {\n",
       "        vertical-align: middle;\n",
       "    }\n",
       "\n",
       "    .dataframe tbody tr th {\n",
       "        vertical-align: top;\n",
       "    }\n",
       "\n",
       "    .dataframe thead th {\n",
       "        text-align: right;\n",
       "    }\n",
       "</style>\n",
       "<table border=\"1\" class=\"dataframe\">\n",
       "  <thead>\n",
       "    <tr style=\"text-align: right;\">\n",
       "      <th></th>\n",
       "      <th>model</th>\n",
       "      <th>Param</th>\n",
       "    </tr>\n",
       "  </thead>\n",
       "  <tbody>\n",
       "    <tr>\n",
       "      <th>0</th>\n",
       "      <td>gb</td>\n",
       "      <td>{'gb__learning_rate': 0.1, 'gb__loss': 'log_lo...</td>\n",
       "    </tr>\n",
       "    <tr>\n",
       "      <th>1</th>\n",
       "      <td>xgb</td>\n",
       "      <td>{'xgb__gamma': 0, 'xgb__learning_rate': 0.05, ...</td>\n",
       "    </tr>\n",
       "  </tbody>\n",
       "</table>\n",
       "</div>"
      ],
      "text/plain": [
       "  model                                              Param\n",
       "0    gb  {'gb__learning_rate': 0.1, 'gb__loss': 'log_lo...\n",
       "1   xgb  {'xgb__gamma': 0, 'xgb__learning_rate': 0.05, ..."
      ]
     },
     "execution_count": 617,
     "metadata": {},
     "output_type": "execute_result"
    }
   ],
   "source": [
    "# Parameter terbaik dari model terbaik\n",
    "grid_param = pd.DataFrame({'model':daftar_nama_model, 'Param':best_param})\n",
    "grid_param"
   ]
  },
  {
   "cell_type": "code",
   "execution_count": 619,
   "metadata": {
    "id": "AmaBRd9X-DBT"
   },
   "outputs": [
    {
     "data": {
      "text/html": [
       "<div>\n",
       "<style scoped>\n",
       "    .dataframe tbody tr th:only-of-type {\n",
       "        vertical-align: middle;\n",
       "    }\n",
       "\n",
       "    .dataframe tbody tr th {\n",
       "        vertical-align: top;\n",
       "    }\n",
       "\n",
       "    .dataframe thead th {\n",
       "        text-align: right;\n",
       "    }\n",
       "</style>\n",
       "<table border=\"1\" class=\"dataframe\">\n",
       "  <thead>\n",
       "    <tr style=\"text-align: right;\">\n",
       "      <th></th>\n",
       "      <th>model</th>\n",
       "      <th>Param</th>\n",
       "    </tr>\n",
       "  </thead>\n",
       "  <tbody>\n",
       "    <tr>\n",
       "      <th>0</th>\n",
       "      <td>gb</td>\n",
       "      <td>(ColumnTransformer(transformers=[('preprocessi...</td>\n",
       "    </tr>\n",
       "    <tr>\n",
       "      <th>1</th>\n",
       "      <td>xgb</td>\n",
       "      <td>(ColumnTransformer(transformers=[('preprocessi...</td>\n",
       "    </tr>\n",
       "  </tbody>\n",
       "</table>\n",
       "</div>"
      ],
      "text/plain": [
       "  model                                              Param\n",
       "0    gb  (ColumnTransformer(transformers=[('preprocessi...\n",
       "1   xgb  (ColumnTransformer(transformers=[('preprocessi..."
      ]
     },
     "execution_count": 619,
     "metadata": {},
     "output_type": "execute_result"
    }
   ],
   "source": [
    "# Estimator terbaik dari model terbaik\n",
    "grid_estimator = pd.DataFrame({'model':daftar_nama_model, 'Param':best_estimator})\n",
    "grid_estimator"
   ]
  },
  {
   "cell_type": "code",
   "execution_count": 621,
   "metadata": {
    "id": "9FOMvuUx-DBT"
   },
   "outputs": [
    {
     "data": {
      "text/html": [
       "<div>\n",
       "<style scoped>\n",
       "    .dataframe tbody tr th:only-of-type {\n",
       "        vertical-align: middle;\n",
       "    }\n",
       "\n",
       "    .dataframe tbody tr th {\n",
       "        vertical-align: top;\n",
       "    }\n",
       "\n",
       "    .dataframe thead th {\n",
       "        text-align: right;\n",
       "    }\n",
       "</style>\n",
       "<table border=\"1\" class=\"dataframe\">\n",
       "  <thead>\n",
       "    <tr style=\"text-align: right;\">\n",
       "      <th></th>\n",
       "      <th>model</th>\n",
       "      <th>Param</th>\n",
       "      <th>Testing</th>\n",
       "    </tr>\n",
       "  </thead>\n",
       "  <tbody>\n",
       "    <tr>\n",
       "      <th>0</th>\n",
       "      <td>xgb</td>\n",
       "      <td>(ColumnTransformer(transformers=[('preprocessi...</td>\n",
       "      <td>0.807348</td>\n",
       "    </tr>\n",
       "    <tr>\n",
       "      <th>1</th>\n",
       "      <td>gb</td>\n",
       "      <td>(ColumnTransformer(transformers=[('preprocessi...</td>\n",
       "      <td>0.804885</td>\n",
       "    </tr>\n",
       "  </tbody>\n",
       "</table>\n",
       "</div>"
      ],
      "text/plain": [
       "  model                                              Param   Testing\n",
       "0   xgb  (ColumnTransformer(transformers=[('preprocessi...  0.807348\n",
       "1    gb  (ColumnTransformer(transformers=[('preprocessi...  0.804885"
      ]
     },
     "execution_count": 621,
     "metadata": {},
     "output_type": "execute_result"
    }
   ],
   "source": [
    "# Kita gabungkan semua sebagai 'model_best'\n",
    "model_best_estimator = pd.DataFrame({'model':daftar_nama_model, 'Param':best_estimator, 'Testing':auc_tuning_test})\n",
    "model_best_estimator = model_best_estimator.sort_values(by='Testing', ascending=False, ignore_index=True)\n",
    "model_best_estimator"
   ]
  },
  {
   "cell_type": "markdown",
   "metadata": {
    "id": "D8CELxg8-DBT"
   },
   "source": [
    "<br>"
   ]
  },
  {
   "cell_type": "markdown",
   "metadata": {
    "id": "QxyKMfEO-DBT"
   },
   "source": [
    "## 3. Menggunakan Model Terbaik"
   ]
  },
  {
   "cell_type": "markdown",
   "metadata": {
    "id": "pNtgN4CA-DBT"
   },
   "source": [
    "Sekarang kita bisa menggunakan modelnya dari <code>model_best</code>, di mana jika kita ingin memilih model terbaik maka pilih urutan pertama.\n",
    "\n",
    "Sehingga jika kita ingin menggunakan model terbaik (indeks ke-0), maka pilih <code>model_best['Param'][0]</code>."
   ]
  },
  {
   "cell_type": "markdown",
   "metadata": {
    "id": "UT9pirH8-DBT"
   },
   "source": [
    "Sekarang kita harus melakukan *fitting* akhir di mana kita akan mentraining parameter dari model terbaik terhadap dataset utuh (gabungan *training set* dan *test set*)."
   ]
  },
  {
   "cell_type": "code",
   "execution_count": 623,
   "metadata": {
    "id": "XjST5Zmh-DBT"
   },
   "outputs": [],
   "source": [
    "# Fitting ke dataset utuh\n",
    "model_final = model_best_estimator['Param'][0].fit(X,y)"
   ]
  },
  {
   "cell_type": "markdown",
   "metadata": {
    "id": "NWki3R3c-DBT"
   },
   "source": [
    "Melihat *feature importance* dari model terbaik."
   ]
  },
  {
   "cell_type": "markdown",
   "metadata": {
    "id": "2Yv9etTA-DBT"
   },
   "source": [
    "<br>"
   ]
  },
  {
   "cell_type": "markdown",
   "metadata": {
    "id": "A9w05IL1-DBT"
   },
   "source": [
    "## 4. Menyimpan Model"
   ]
  },
  {
   "cell_type": "markdown",
   "metadata": {
    "id": "Mxf7Ygi5-DBT"
   },
   "source": [
    "Sekarang kita akan menyimpan modelnya untuk nanti bisa dipakai dan di*deploy*."
   ]
  },
  {
   "cell_type": "code",
   "execution_count": 625,
   "metadata": {
    "id": "C8LvUKDBZmLj"
   },
   "outputs": [],
   "source": [
    "# Library untuk menyimpan model\n",
    "import pickle"
   ]
  },
  {
   "cell_type": "code",
   "execution_count": 627,
   "metadata": {
    "id": "4T-aJPRRZcbn"
   },
   "outputs": [],
   "source": [
    "# Menyimpan model dengan nama 'model_regresi_terbaik.pkl'\n",
    "pickle.dump(model_final, open('model_klasifikasi_terbaik.pkl', 'wb'))"
   ]
  },
  {
   "cell_type": "markdown",
   "metadata": {
    "id": "IJSvI_L4-DBT"
   },
   "source": [
    "Sekarang kita akan coba memprediksi X_test menggunakan model yang sudah kita simpan."
   ]
  },
  {
   "cell_type": "code",
   "execution_count": 630,
   "metadata": {
    "id": "S8xNQ9vf-DBT"
   },
   "outputs": [],
   "source": [
    "# Load lagi model yang sudah disimpan dan buka sebagai 'best_model'\n",
    "best_model = pickle.load(open('model_klasifikasi_terbaik.pkl', 'rb'))"
   ]
  },
  {
   "cell_type": "code",
   "execution_count": 632,
   "metadata": {
    "id": "rAncHF9S-DBT"
   },
   "outputs": [
    {
     "data": {
      "text/plain": [
       "array([0, 0, 0, ..., 0, 0, 0])"
      ]
     },
     "execution_count": 632,
     "metadata": {},
     "output_type": "execute_result"
    }
   ],
   "source": [
    "# Mencoba melakukan prediksi X_test\n",
    "prediksi = best_model.predict(X_test)\n",
    "\n",
    "# Melihat hasil prediksi\n",
    "prediksi"
   ]
  },
  {
   "cell_type": "code",
   "execution_count": 634,
   "metadata": {
    "id": "zkKKYqUX-DBT"
   },
   "outputs": [
    {
     "data": {
      "text/html": [
       "<div>\n",
       "<style scoped>\n",
       "    .dataframe tbody tr th:only-of-type {\n",
       "        vertical-align: middle;\n",
       "    }\n",
       "\n",
       "    .dataframe tbody tr th {\n",
       "        vertical-align: top;\n",
       "    }\n",
       "\n",
       "    .dataframe thead th {\n",
       "        text-align: right;\n",
       "    }\n",
       "</style>\n",
       "<table border=\"1\" class=\"dataframe\">\n",
       "  <thead>\n",
       "    <tr style=\"text-align: right;\">\n",
       "      <th></th>\n",
       "      <th>target</th>\n",
       "    </tr>\n",
       "  </thead>\n",
       "  <tbody>\n",
       "    <tr>\n",
       "      <th>0</th>\n",
       "      <td>0</td>\n",
       "    </tr>\n",
       "    <tr>\n",
       "      <th>1</th>\n",
       "      <td>0</td>\n",
       "    </tr>\n",
       "    <tr>\n",
       "      <th>2</th>\n",
       "      <td>0</td>\n",
       "    </tr>\n",
       "    <tr>\n",
       "      <th>3</th>\n",
       "      <td>1</td>\n",
       "    </tr>\n",
       "    <tr>\n",
       "      <th>4</th>\n",
       "      <td>0</td>\n",
       "    </tr>\n",
       "    <tr>\n",
       "      <th>5</th>\n",
       "      <td>0</td>\n",
       "    </tr>\n",
       "    <tr>\n",
       "      <th>6</th>\n",
       "      <td>1</td>\n",
       "    </tr>\n",
       "    <tr>\n",
       "      <th>7</th>\n",
       "      <td>0</td>\n",
       "    </tr>\n",
       "    <tr>\n",
       "      <th>8</th>\n",
       "      <td>0</td>\n",
       "    </tr>\n",
       "    <tr>\n",
       "      <th>9</th>\n",
       "      <td>1</td>\n",
       "    </tr>\n",
       "    <tr>\n",
       "      <th>10</th>\n",
       "      <td>0</td>\n",
       "    </tr>\n",
       "    <tr>\n",
       "      <th>11</th>\n",
       "      <td>0</td>\n",
       "    </tr>\n",
       "    <tr>\n",
       "      <th>12</th>\n",
       "      <td>0</td>\n",
       "    </tr>\n",
       "    <tr>\n",
       "      <th>13</th>\n",
       "      <td>1</td>\n",
       "    </tr>\n",
       "    <tr>\n",
       "      <th>14</th>\n",
       "      <td>1</td>\n",
       "    </tr>\n",
       "  </tbody>\n",
       "</table>\n",
       "</div>"
      ],
      "text/plain": [
       "    target\n",
       "0        0\n",
       "1        0\n",
       "2        0\n",
       "3        1\n",
       "4        0\n",
       "5        0\n",
       "6        1\n",
       "7        0\n",
       "8        0\n",
       "9        1\n",
       "10       0\n",
       "11       0\n",
       "12       0\n",
       "13       1\n",
       "14       1"
      ]
     },
     "execution_count": 634,
     "metadata": {},
     "output_type": "execute_result"
    }
   ],
   "source": [
    "# Merubah dalam format DataFrame\n",
    "prediksi = pd.DataFrame(prediksi, columns=['target'])\n",
    "prediksi.head(15)"
   ]
  },
  {
   "cell_type": "markdown",
   "metadata": {
    "id": "VblFgLuu-DBT"
   },
   "source": [
    "<br>"
   ]
  },
  {
   "cell_type": "markdown",
   "metadata": {
    "id": "Xjr58XK4-DBT"
   },
   "source": [
    "## 5. Feature Importance"
   ]
  },
  {
   "cell_type": "markdown",
   "metadata": {
    "id": "Fisu8yQq-DBT"
   },
   "source": [
    "Kita bisa melihat feature apa saja yang paling berpengaruh atau sering disebut dengan istilah *feature importance*."
   ]
  },
  {
   "cell_type": "code",
   "execution_count": 636,
   "metadata": {
    "id": "Ci3YcxPF-DBU"
   },
   "outputs": [
    {
     "data": {
      "text/html": [
       "<div>\n",
       "<style scoped>\n",
       "    .dataframe tbody tr th:only-of-type {\n",
       "        vertical-align: middle;\n",
       "    }\n",
       "\n",
       "    .dataframe tbody tr th {\n",
       "        vertical-align: top;\n",
       "    }\n",
       "\n",
       "    .dataframe thead th {\n",
       "        text-align: right;\n",
       "    }\n",
       "</style>\n",
       "<table border=\"1\" class=\"dataframe\">\n",
       "  <thead>\n",
       "    <tr style=\"text-align: right;\">\n",
       "      <th></th>\n",
       "      <th>Param</th>\n",
       "      <th>Testing</th>\n",
       "    </tr>\n",
       "    <tr>\n",
       "      <th>model</th>\n",
       "      <th></th>\n",
       "      <th></th>\n",
       "    </tr>\n",
       "  </thead>\n",
       "  <tbody>\n",
       "    <tr>\n",
       "      <th>xgb</th>\n",
       "      <td>(ColumnTransformer(transformers=[('preprocessi...</td>\n",
       "      <td>0.807348</td>\n",
       "    </tr>\n",
       "    <tr>\n",
       "      <th>gb</th>\n",
       "      <td>(ColumnTransformer(transformers=[('preprocessi...</td>\n",
       "      <td>0.804885</td>\n",
       "    </tr>\n",
       "  </tbody>\n",
       "</table>\n",
       "</div>"
      ],
      "text/plain": [
       "                                                   Param   Testing\n",
       "model                                                             \n",
       "xgb    (ColumnTransformer(transformers=[('preprocessi...  0.807348\n",
       "gb     (ColumnTransformer(transformers=[('preprocessi...  0.804885"
      ]
     },
     "execution_count": 636,
     "metadata": {},
     "output_type": "execute_result"
    }
   ],
   "source": [
    "# Menyiapkan tabel untuk nanti diiterasi satu per satu\n",
    "model_ft = model_best_estimator.set_index('model')\n",
    "model_ft"
   ]
  },
  {
   "cell_type": "markdown",
   "metadata": {
    "id": "oWOuljmI-DBU"
   },
   "source": [
    "<br>"
   ]
  },
  {
   "cell_type": "markdown",
   "metadata": {
    "id": "7UArQJoT-DBU"
   },
   "source": [
    "### 5.1 Model Linear Regression"
   ]
  },
  {
   "cell_type": "markdown",
   "metadata": {
    "id": "-NaIrfjh-DBU"
   },
   "source": [
    "**Cara pertama**"
   ]
  },
  {
   "cell_type": "code",
   "execution_count": null,
   "metadata": {
    "id": "tqm2T2ZM-DBU"
   },
   "outputs": [],
   "source": [
    "# Feature importance menggunakan logistic regression coefficient\n",
    "importances = pd.DataFrame(data={\n",
    "    'Attribute': X_train.columns,\n",
    "    'Importance': np.abs(mod_logreg[0])\n",
    "})\n",
    "importances = importances.sort_values(by='Importance', ascending=False)\n",
    "\n",
    "# Visualisasi Feature Importance menggunakan logistic regression\n",
    "plt.bar(x=importances['Attribute'], height=importances['Importance'], color='pink')\n",
    "plt.title('Feature importances obtained from coefficients', size=15)\n",
    "plt.xticks(rotation='vertical')\n",
    "plt.tight_layout()\n",
    "plt.show()"
   ]
  },
  {
   "cell_type": "markdown",
   "metadata": {
    "id": "jzKwf4-H-DBU"
   },
   "source": [
    "**Cara kedua**"
   ]
  },
  {
   "cell_type": "code",
   "execution_count": null,
   "metadata": {
    "id": "yqRZEzJq-DBU"
   },
   "outputs": [],
   "source": [
    "avg_importance = np.mean(np.abs(mod_logreg[1].coef_), axis=0)\n",
    "feature_importance = pd.DataFrame({'Feature': X_train.columns, 'Importance': avg_importance})\n",
    "feature_importance = feature_importance.sort_values('Importance', ascending=True)\n",
    "feature_importance.plot(x='Feature', y='Importance', kind='barh', figsize=(10, 6))\n",
    "plt.show()"
   ]
  },
  {
   "cell_type": "markdown",
   "metadata": {
    "id": "AH7-6FYt-DBU"
   },
   "source": [
    "<br>"
   ]
  },
  {
   "cell_type": "markdown",
   "metadata": {
    "id": "oWLzWPE_-DBU"
   },
   "source": [
    "### 5.2 Model SGD"
   ]
  },
  {
   "cell_type": "code",
   "execution_count": null,
   "metadata": {
    "id": "_oB51Pv1-DBU"
   },
   "outputs": [],
   "source": [
    "# Melihat pipeline model lasso\n",
    "nama_model = model_ft.loc['sgd','Param']['sgd']\n",
    "nama_model"
   ]
  },
  {
   "cell_type": "code",
   "execution_count": null,
   "metadata": {
    "id": "25r160Qb-DBU"
   },
   "outputs": [],
   "source": [
    "# Fitting menggunakan shap\n",
    "explainer = shap.Explainer(model_final.predict, X_test)\n",
    "shap_values = explainer(X_test)"
   ]
  },
  {
   "cell_type": "code",
   "execution_count": null,
   "metadata": {
    "id": "FKYBciX5-DBU"
   },
   "outputs": [],
   "source": [
    "# Plotting barplot\n",
    "shap.plots.bar(shap_values)"
   ]
  },
  {
   "cell_type": "code",
   "execution_count": null,
   "metadata": {
    "id": "obtA-dWv-DBU"
   },
   "outputs": [],
   "source": [
    "# Ringkasan dan penjelasan\n",
    "shap.summary_plot(shap_values)"
   ]
  },
  {
   "cell_type": "markdown",
   "metadata": {
    "id": "UGhaw6U6-DBU"
   },
   "source": [
    "<br>"
   ]
  },
  {
   "cell_type": "markdown",
   "metadata": {
    "id": "Zy7XaOWY-DBU"
   },
   "source": [
    "### 5.3 Model Decision Tree"
   ]
  },
  {
   "cell_type": "code",
   "execution_count": null,
   "metadata": {
    "id": "cKszF8mh-DBU"
   },
   "outputs": [],
   "source": [
    "# Melihat pipeline model\n",
    "nama_model = model_ft.loc['dt','Param']['dt']\n",
    "nama_model"
   ]
  },
  {
   "cell_type": "code",
   "execution_count": null,
   "metadata": {
    "id": "Eo8YGPyy-DBU",
    "tags": []
   },
   "outputs": [],
   "source": [
    "# Menghitung importances\n",
    "modelku = model_ft.loc['dt','Param']\n",
    "nama_feature = []\n",
    "fitur = modelku['preprocessing'].get_feature_names_out()\n",
    "for i in fitur:\n",
    "    if 'numerik' in i:\n",
    "        nama_feature.append(i.replace('preprocessing numerik__',''))\n",
    "    else:\n",
    "        nama_feature.append(i.replace('preprocessing kategori__',''))\n",
    "\n",
    "importances = nama_model.feature_importances_\n",
    "importances = pd.Series(importances, index=nama_feature)\n",
    "importances"
   ]
  },
  {
   "cell_type": "code",
   "execution_count": null,
   "metadata": {
    "id": "CUI2fgLg-DBU",
    "tags": []
   },
   "outputs": [],
   "source": [
    "# Melakukan plotting\n",
    "fig, ax = plt.subplots(figsize = (7,5))\n",
    "importances.sort_values(ascending=False).plot.bar(ax=ax)\n",
    "ax.set_title('Plot Feature Importance Setiap Feature')\n",
    "ax.set_ylabel('Mean decrease impurity')\n",
    "fig.tight_layout()"
   ]
  },
  {
   "cell_type": "markdown",
   "metadata": {
    "id": "lpo9QVtg-DBU"
   },
   "source": [
    "<br>"
   ]
  },
  {
   "cell_type": "markdown",
   "metadata": {
    "id": "k_gnUw7D-DBU"
   },
   "source": [
    "### 5.4 Model SVM"
   ]
  },
  {
   "cell_type": "code",
   "execution_count": null,
   "metadata": {
    "id": "eWTUK0iM-DBU"
   },
   "outputs": [],
   "source": [
    "# Melihat pipeline model\n",
    "nama_model = model_ft.loc['svm','Param']['svm']\n",
    "nama_model"
   ]
  },
  {
   "cell_type": "code",
   "execution_count": null,
   "metadata": {
    "id": "cuUVuUzx-DBU"
   },
   "outputs": [],
   "source": [
    "# Menghitung importances\n",
    "modelku = model_ft.loc['svm','Param']\n",
    "nama_feature = []\n",
    "fitur = modelku['preprocessing'].get_feature_names_out()\n",
    "for i in fitur:\n",
    "    if 'numerik' in i:\n",
    "        nama_feature.append(i.replace('preprocessing numerik__',''))\n",
    "    else:\n",
    "        nama_feature.append(i.replace('preprocessing kategori__',''))\n",
    "hasil = permutation_importance(nama_model, X, y, scoring='neg_mean_squared_error', random_state=0)\n",
    "#importances = hasil.importances_mean\n",
    "#importances = pd.Series(importances, index=nama_feature)\n",
    "#importances"
   ]
  },
  {
   "cell_type": "code",
   "execution_count": null,
   "metadata": {
    "id": "Qrm_n9l9-DBU"
   },
   "outputs": [],
   "source": [
    "# Melakukan plotting\n",
    "fig, ax = plt.subplots(figsize = (7,5))\n",
    "importances.sort_values(ascending=False).plot.bar(ax=ax)\n",
    "ax.set_title('Plot Feature Importance Setiap Feature')\n",
    "ax.set_ylabel('Permutation Importance')\n",
    "fig.tight_layout()"
   ]
  },
  {
   "cell_type": "markdown",
   "metadata": {
    "id": "MLDwPn4Y-DBU",
    "tags": []
   },
   "source": [
    "Permutation feature importance adalah teknik inspeksi model yang mengukur kontribusi setiap fitur terhadap performa statistik model yang sudah dilatih pada dataset tabular. Teknik ini sangat berguna untuk estimator yang non-linear atau tidak transparan, dan melibatkan pengacakan nilai-nilai dari satu fitur secara acak, kemudian mengamati penurunan skor model yang dihasilkan. Dengan memutuskan hubungan antara fitur dan target, kita dapat menentukan seberapa besar model bergantung pada fitur tersebut"
   ]
  },
  {
   "cell_type": "markdown",
   "metadata": {
    "id": "9pjfu2ze-DBV"
   },
   "source": [
    "<br>"
   ]
  },
  {
   "cell_type": "markdown",
   "metadata": {
    "id": "JT123bk8-DBV"
   },
   "source": [
    "### 5.5 Model KNN"
   ]
  },
  {
   "cell_type": "code",
   "execution_count": null,
   "metadata": {
    "id": "mEzPJEfe-DBV"
   },
   "outputs": [],
   "source": [
    "# Melihat pipeline model\n",
    "nama_model = model_ft.loc['knn','Param']['knn']\n",
    "nama_model"
   ]
  },
  {
   "cell_type": "code",
   "execution_count": null,
   "metadata": {
    "id": "DO-UUL-U-DBV"
   },
   "outputs": [],
   "source": [
    "# Fitting menggunakan shap\n",
    "explainer = shap.Explainer(nama_model.predict, X_test)\n",
    "shap_values = explainer(X_test)"
   ]
  },
  {
   "cell_type": "code",
   "execution_count": null,
   "metadata": {
    "id": "M7FLHQS3-DBV"
   },
   "outputs": [],
   "source": [
    "# Plotting barplot\n",
    "shap.plots.bar(shap_values)"
   ]
  },
  {
   "cell_type": "markdown",
   "metadata": {
    "id": "P9ZLJ-FK-DBV"
   },
   "source": [
    "Di sini, fitur-fitur diurutkan dari pengaruh tertinggi hingga terendah terhadap prediksi. <br>\n",
    "Pengurutan ini berdasarkan nilai SHAP absolut, sehingga tidak masalah apakah fitur tersebut mempengaruhi prediksi secara positif atau negatif"
   ]
  },
  {
   "cell_type": "code",
   "execution_count": null,
   "metadata": {
    "id": "HHRY5gcj-DBV"
   },
   "outputs": [],
   "source": [
    "# Ringkasan dan penjelasan\n",
    "shap.summary_plot(shap_values)"
   ]
  },
  {
   "cell_type": "markdown",
   "metadata": {
    "id": "Kh8poqVv-DBV"
   },
   "source": [
    "<br>"
   ]
  },
  {
   "cell_type": "markdown",
   "metadata": {
    "id": "7gG-HZI7-DBV"
   },
   "source": [
    "### 5.6 Model GPC"
   ]
  },
  {
   "cell_type": "code",
   "execution_count": null,
   "metadata": {
    "id": "rFD53PoA-DBV"
   },
   "outputs": [],
   "source": [
    "# Melihat pipeline model\n",
    "nama_model = model_ft.loc['gpc','Param']['gpc']\n",
    "nama_model"
   ]
  },
  {
   "cell_type": "code",
   "execution_count": null,
   "metadata": {
    "id": "rJiDdP8v-DBV"
   },
   "outputs": [],
   "source": [
    "# Fitting menggunakan shap\n",
    "explainer = shap.Explainer(nama_model.predict, X_test)\n",
    "shap_values = explainer(X_test)"
   ]
  },
  {
   "cell_type": "code",
   "execution_count": null,
   "metadata": {
    "id": "eeEU1l6O-DBV"
   },
   "outputs": [],
   "source": [
    "# Plotting barplot\n",
    "shap.plots.bar(shap_values)"
   ]
  },
  {
   "cell_type": "code",
   "execution_count": null,
   "metadata": {
    "id": "5hFOoRds-DBV"
   },
   "outputs": [],
   "source": [
    "# Ringkasan dan penjelasan\n",
    "shap.summary_plot(shap_values)"
   ]
  },
  {
   "cell_type": "markdown",
   "metadata": {
    "id": "ty1auvZS-DBV"
   },
   "source": [
    "<br>"
   ]
  },
  {
   "cell_type": "markdown",
   "metadata": {
    "id": "dVRFmN97-DBV"
   },
   "source": [
    "### 5.7 Model Naive Bayes"
   ]
  },
  {
   "cell_type": "code",
   "execution_count": null,
   "metadata": {
    "id": "SeS7OJpJ-DBV"
   },
   "outputs": [],
   "source": [
    "# Melihat pipeline model\n",
    "nama_model = model_ft.loc['naive','Param']['naive']\n",
    "nama_model"
   ]
  },
  {
   "cell_type": "code",
   "execution_count": null,
   "metadata": {
    "id": "wmzY17EQ-DBV"
   },
   "outputs": [],
   "source": [
    "# Fitting menggunakan shap\n",
    "explainer = shap.Explainer(nama_model.predict, X_test)\n",
    "shap_values = explainer(X_test)"
   ]
  },
  {
   "cell_type": "code",
   "execution_count": null,
   "metadata": {
    "id": "JfSFqEg6-DBV"
   },
   "outputs": [],
   "source": [
    "# Plotting barplot\n",
    "shap.plots.bar(shap_values)"
   ]
  },
  {
   "cell_type": "code",
   "execution_count": null,
   "metadata": {
    "id": "NftU9Jpd-DBV"
   },
   "outputs": [],
   "source": [
    "# Ringkasan dan penjelasan\n",
    "shap.summary_plot(shap_values)"
   ]
  },
  {
   "cell_type": "markdown",
   "metadata": {
    "id": "aVhxfgLN-DBV"
   },
   "source": [
    "<br>"
   ]
  },
  {
   "cell_type": "markdown",
   "metadata": {
    "id": "2lJ7ilwy-DBV"
   },
   "source": [
    "### 5.8 Model Random Forest"
   ]
  },
  {
   "cell_type": "code",
   "execution_count": null,
   "metadata": {
    "id": "QeFuoMZv-DBV"
   },
   "outputs": [],
   "source": [
    "# Melihat pipeline model\n",
    "nama_model = model_ft.loc['rf','Param']['rf']\n",
    "nama_model"
   ]
  },
  {
   "cell_type": "code",
   "execution_count": null,
   "metadata": {
    "id": "TXVBjC9x-DBV",
    "tags": []
   },
   "outputs": [],
   "source": [
    "# Menghitung importances\n",
    "modelku = model_ft.loc['rf','Param']\n",
    "nama_feature = []\n",
    "fitur = modelku['preprocessing'].get_feature_names_out()\n",
    "for i in fitur:\n",
    "    if 'numerik' in i:\n",
    "        nama_feature.append(i.replace('preprocessing numerik__',''))\n",
    "    else:\n",
    "        nama_feature.append(i.replace('preprocessing kategori__',''))\n",
    "\n",
    "importances = nama_model.feature_importances_\n",
    "importances = pd.Series(importances, index=nama_feature)\n",
    "importances"
   ]
  },
  {
   "cell_type": "code",
   "execution_count": null,
   "metadata": {
    "id": "WkCHf5q6-DBV",
    "tags": []
   },
   "outputs": [],
   "source": [
    "# Melakukan plotting\n",
    "fig, ax = plt.subplots(figsize = (7,5))\n",
    "importances.sort_values(ascending=False).plot.bar(ax=ax)\n",
    "ax.set_title('Plot Feature Importance Setiap Feature')\n",
    "ax.set_ylabel('Mean decrease impurity')\n",
    "fig.tight_layout()"
   ]
  },
  {
   "cell_type": "markdown",
   "metadata": {
    "id": "4axVS407-DBV"
   },
   "source": [
    "<br>"
   ]
  },
  {
   "cell_type": "markdown",
   "metadata": {
    "id": "Bl5bRlqa-DBV"
   },
   "source": [
    "### 5.9 Model Ada Boost"
   ]
  },
  {
   "cell_type": "code",
   "execution_count": null,
   "metadata": {
    "id": "D361hbjT-DBW"
   },
   "outputs": [],
   "source": [
    "# Melihat pipeline model\n",
    "nama_model = model_ft.loc['ada','Param']['ada']\n",
    "nama_model"
   ]
  },
  {
   "cell_type": "code",
   "execution_count": null,
   "metadata": {
    "id": "v8MOFAT_-DBW",
    "tags": []
   },
   "outputs": [],
   "source": [
    "# Menghitung importances\n",
    "modelku = model_ft.loc['ada','Param']\n",
    "nama_feature = []\n",
    "fitur = modelku['preprocessing'].get_feature_names_out()\n",
    "for i in fitur:\n",
    "    if 'numerik' in i:\n",
    "        nama_feature.append(i.replace('preprocessing numerik__',''))\n",
    "    else:\n",
    "        nama_feature.append(i.replace('preprocessing kategori__',''))\n",
    "\n",
    "importances = nama_model.feature_importances_\n",
    "importances = pd.Series(importances, index=nama_feature)\n",
    "importances"
   ]
  },
  {
   "cell_type": "code",
   "execution_count": null,
   "metadata": {
    "id": "XmKhpq8M-DBW",
    "tags": []
   },
   "outputs": [],
   "source": [
    "# Melakukan plotting\n",
    "fig, ax = plt.subplots(figsize = (7,5))\n",
    "importances.sort_values(ascending=False).plot.bar(ax=ax)\n",
    "ax.set_title('Plot Feature Importance Setiap Feature')\n",
    "ax.set_ylabel('Mean decrease impurity')\n",
    "fig.tight_layout()"
   ]
  },
  {
   "cell_type": "markdown",
   "metadata": {
    "id": "XtsypVc6-DBW"
   },
   "source": [
    "<br>"
   ]
  },
  {
   "cell_type": "markdown",
   "metadata": {
    "id": "Hf9omPFF-DBW"
   },
   "source": [
    "### 5.10 Model Gradient Boosting"
   ]
  },
  {
   "cell_type": "code",
   "execution_count": 638,
   "metadata": {
    "id": "Wu__r6jC-DBW"
   },
   "outputs": [
    {
     "data": {
      "text/html": [
       "<style>#sk-container-id-10 {color: black;}#sk-container-id-10 pre{padding: 0;}#sk-container-id-10 div.sk-toggleable {background-color: white;}#sk-container-id-10 label.sk-toggleable__label {cursor: pointer;display: block;width: 100%;margin-bottom: 0;padding: 0.3em;box-sizing: border-box;text-align: center;}#sk-container-id-10 label.sk-toggleable__label-arrow:before {content: \"▸\";float: left;margin-right: 0.25em;color: #696969;}#sk-container-id-10 label.sk-toggleable__label-arrow:hover:before {color: black;}#sk-container-id-10 div.sk-estimator:hover label.sk-toggleable__label-arrow:before {color: black;}#sk-container-id-10 div.sk-toggleable__content {max-height: 0;max-width: 0;overflow: hidden;text-align: left;background-color: #f0f8ff;}#sk-container-id-10 div.sk-toggleable__content pre {margin: 0.2em;color: black;border-radius: 0.25em;background-color: #f0f8ff;}#sk-container-id-10 input.sk-toggleable__control:checked~div.sk-toggleable__content {max-height: 200px;max-width: 100%;overflow: auto;}#sk-container-id-10 input.sk-toggleable__control:checked~label.sk-toggleable__label-arrow:before {content: \"▾\";}#sk-container-id-10 div.sk-estimator input.sk-toggleable__control:checked~label.sk-toggleable__label {background-color: #d4ebff;}#sk-container-id-10 div.sk-label input.sk-toggleable__control:checked~label.sk-toggleable__label {background-color: #d4ebff;}#sk-container-id-10 input.sk-hidden--visually {border: 0;clip: rect(1px 1px 1px 1px);clip: rect(1px, 1px, 1px, 1px);height: 1px;margin: -1px;overflow: hidden;padding: 0;position: absolute;width: 1px;}#sk-container-id-10 div.sk-estimator {font-family: monospace;background-color: #f0f8ff;border: 1px dotted black;border-radius: 0.25em;box-sizing: border-box;margin-bottom: 0.5em;}#sk-container-id-10 div.sk-estimator:hover {background-color: #d4ebff;}#sk-container-id-10 div.sk-parallel-item::after {content: \"\";width: 100%;border-bottom: 1px solid gray;flex-grow: 1;}#sk-container-id-10 div.sk-label:hover label.sk-toggleable__label {background-color: #d4ebff;}#sk-container-id-10 div.sk-serial::before {content: \"\";position: absolute;border-left: 1px solid gray;box-sizing: border-box;top: 0;bottom: 0;left: 50%;z-index: 0;}#sk-container-id-10 div.sk-serial {display: flex;flex-direction: column;align-items: center;background-color: white;padding-right: 0.2em;padding-left: 0.2em;position: relative;}#sk-container-id-10 div.sk-item {position: relative;z-index: 1;}#sk-container-id-10 div.sk-parallel {display: flex;align-items: stretch;justify-content: center;background-color: white;position: relative;}#sk-container-id-10 div.sk-item::before, #sk-container-id-10 div.sk-parallel-item::before {content: \"\";position: absolute;border-left: 1px solid gray;box-sizing: border-box;top: 0;bottom: 0;left: 50%;z-index: -1;}#sk-container-id-10 div.sk-parallel-item {display: flex;flex-direction: column;z-index: 1;position: relative;background-color: white;}#sk-container-id-10 div.sk-parallel-item:first-child::after {align-self: flex-end;width: 50%;}#sk-container-id-10 div.sk-parallel-item:last-child::after {align-self: flex-start;width: 50%;}#sk-container-id-10 div.sk-parallel-item:only-child::after {width: 0;}#sk-container-id-10 div.sk-dashed-wrapped {border: 1px dashed gray;margin: 0 0.4em 0.5em 0.4em;box-sizing: border-box;padding-bottom: 0.4em;background-color: white;}#sk-container-id-10 div.sk-label label {font-family: monospace;font-weight: bold;display: inline-block;line-height: 1.2em;}#sk-container-id-10 div.sk-label-container {text-align: center;}#sk-container-id-10 div.sk-container {/* jupyter's `normalize.less` sets `[hidden] { display: none; }` but bootstrap.min.css set `[hidden] { display: none !important; }` so we also need the `!important` here to be able to override the default hidden behavior on the sphinx rendered scikit-learn.org. See: https://github.com/scikit-learn/scikit-learn/issues/21755 */display: inline-block !important;position: relative;}#sk-container-id-10 div.sk-text-repr-fallback {display: none;}</style><div id=\"sk-container-id-10\" class=\"sk-top-container\"><div class=\"sk-text-repr-fallback\"><pre>GradientBoostingClassifier(n_estimators=70, random_state=0)</pre><b>In a Jupyter environment, please rerun this cell to show the HTML representation or trust the notebook. <br />On GitHub, the HTML representation is unable to render, please try loading this page with nbviewer.org.</b></div><div class=\"sk-container\" hidden><div class=\"sk-item\"><div class=\"sk-estimator sk-toggleable\"><input class=\"sk-toggleable__control sk-hidden--visually\" id=\"sk-estimator-id-34\" type=\"checkbox\" checked><label for=\"sk-estimator-id-34\" class=\"sk-toggleable__label sk-toggleable__label-arrow\">GradientBoostingClassifier</label><div class=\"sk-toggleable__content\"><pre>GradientBoostingClassifier(n_estimators=70, random_state=0)</pre></div></div></div></div></div>"
      ],
      "text/plain": [
       "GradientBoostingClassifier(n_estimators=70, random_state=0)"
      ]
     },
     "execution_count": 638,
     "metadata": {},
     "output_type": "execute_result"
    }
   ],
   "source": [
    "# Melihat pipeline model\n",
    "nama_model = model_ft.loc['gb','Param']['gb']\n",
    "nama_model"
   ]
  },
  {
   "cell_type": "code",
   "execution_count": 640,
   "metadata": {
    "id": "yeC-kbQR-DBW",
    "tags": []
   },
   "outputs": [
    {
     "data": {
      "text/plain": [
       "city_development_index    0.505280\n",
       "training_hours            0.011106\n",
       "city_city_10              0.000000\n",
       "city_city_100             0.000784\n",
       "city_city_101             0.000000\n",
       "                            ...   \n",
       "last_new_job_2            0.000192\n",
       "last_new_job_3            0.000594\n",
       "last_new_job_4            0.000312\n",
       "last_new_job_>4           0.000407\n",
       "last_new_job_never        0.015625\n",
       "Length: 180, dtype: float64"
      ]
     },
     "execution_count": 640,
     "metadata": {},
     "output_type": "execute_result"
    }
   ],
   "source": [
    "# Menghitung importances\n",
    "modelku = model_ft.loc['gb','Param']\n",
    "nama_feature = []\n",
    "fitur = modelku['preprocessing'].get_feature_names_out()\n",
    "for i in fitur:\n",
    "    if 'numerik' in i:\n",
    "        nama_feature.append(i.replace('preprocessing numerik__',''))\n",
    "    else:\n",
    "        nama_feature.append(i.replace('preprocessing kategori__',''))\n",
    "\n",
    "importances = nama_model.feature_importances_\n",
    "importances = pd.Series(importances, index=nama_feature)\n",
    "importances"
   ]
  },
  {
   "cell_type": "code",
   "execution_count": 642,
   "metadata": {
    "id": "8dCSjt8Y-DBW",
    "tags": []
   },
   "outputs": [
    {
     "data": {
      "image/png": "[encoded data removed]",
      "text/plain": [
       "<Figure size 2700x500 with 1 Axes>"
      ]
     },
     "metadata": {},
     "output_type": "display_data"
    }
   ],
   "source": [
    "# Melakukan plotting\n",
    "fig, ax = plt.subplots(figsize = (27,5))\n",
    "importances.sort_values(ascending=False).plot.bar(ax=ax)\n",
    "ax.set_title('Plot Feature Importance Setiap Feature')\n",
    "ax.set_ylabel('Mean decrease impurity')\n",
    "fig.tight_layout()"
   ]
  },
  {
   "cell_type": "markdown",
   "metadata": {
    "id": "gwitCUll-DBW"
   },
   "source": [
    "<br>"
   ]
  },
  {
   "cell_type": "markdown",
   "metadata": {
    "id": "SmsCV7SR-DBW"
   },
   "source": [
    "### 5.11 Model XGBoost"
   ]
  },
  {
   "cell_type": "code",
   "execution_count": 645,
   "metadata": {
    "id": "6FvY1y_v-DBW"
   },
   "outputs": [
    {
     "data": {
      "text/html": [
       "<style>#sk-container-id-11 {color: black;}#sk-container-id-11 pre{padding: 0;}#sk-container-id-11 div.sk-toggleable {background-color: white;}#sk-container-id-11 label.sk-toggleable__label {cursor: pointer;display: block;width: 100%;margin-bottom: 0;padding: 0.3em;box-sizing: border-box;text-align: center;}#sk-container-id-11 label.sk-toggleable__label-arrow:before {content: \"▸\";float: left;margin-right: 0.25em;color: #696969;}#sk-container-id-11 label.sk-toggleable__label-arrow:hover:before {color: black;}#sk-container-id-11 div.sk-estimator:hover label.sk-toggleable__label-arrow:before {color: black;}#sk-container-id-11 div.sk-toggleable__content {max-height: 0;max-width: 0;overflow: hidden;text-align: left;background-color: #f0f8ff;}#sk-container-id-11 div.sk-toggleable__content pre {margin: 0.2em;color: black;border-radius: 0.25em;background-color: #f0f8ff;}#sk-container-id-11 input.sk-toggleable__control:checked~div.sk-toggleable__content {max-height: 200px;max-width: 100%;overflow: auto;}#sk-container-id-11 input.sk-toggleable__control:checked~label.sk-toggleable__label-arrow:before {content: \"▾\";}#sk-container-id-11 div.sk-estimator input.sk-toggleable__control:checked~label.sk-toggleable__label {background-color: #d4ebff;}#sk-container-id-11 div.sk-label input.sk-toggleable__control:checked~label.sk-toggleable__label {background-color: #d4ebff;}#sk-container-id-11 input.sk-hidden--visually {border: 0;clip: rect(1px 1px 1px 1px);clip: rect(1px, 1px, 1px, 1px);height: 1px;margin: -1px;overflow: hidden;padding: 0;position: absolute;width: 1px;}#sk-container-id-11 div.sk-estimator {font-family: monospace;background-color: #f0f8ff;border: 1px dotted black;border-radius: 0.25em;box-sizing: border-box;margin-bottom: 0.5em;}#sk-container-id-11 div.sk-estimator:hover {background-color: #d4ebff;}#sk-container-id-11 div.sk-parallel-item::after {content: \"\";width: 100%;border-bottom: 1px solid gray;flex-grow: 1;}#sk-container-id-11 div.sk-label:hover label.sk-toggleable__label {background-color: #d4ebff;}#sk-container-id-11 div.sk-serial::before {content: \"\";position: absolute;border-left: 1px solid gray;box-sizing: border-box;top: 0;bottom: 0;left: 50%;z-index: 0;}#sk-container-id-11 div.sk-serial {display: flex;flex-direction: column;align-items: center;background-color: white;padding-right: 0.2em;padding-left: 0.2em;position: relative;}#sk-container-id-11 div.sk-item {position: relative;z-index: 1;}#sk-container-id-11 div.sk-parallel {display: flex;align-items: stretch;justify-content: center;background-color: white;position: relative;}#sk-container-id-11 div.sk-item::before, #sk-container-id-11 div.sk-parallel-item::before {content: \"\";position: absolute;border-left: 1px solid gray;box-sizing: border-box;top: 0;bottom: 0;left: 50%;z-index: -1;}#sk-container-id-11 div.sk-parallel-item {display: flex;flex-direction: column;z-index: 1;position: relative;background-color: white;}#sk-container-id-11 div.sk-parallel-item:first-child::after {align-self: flex-end;width: 50%;}#sk-container-id-11 div.sk-parallel-item:last-child::after {align-self: flex-start;width: 50%;}#sk-container-id-11 div.sk-parallel-item:only-child::after {width: 0;}#sk-container-id-11 div.sk-dashed-wrapped {border: 1px dashed gray;margin: 0 0.4em 0.5em 0.4em;box-sizing: border-box;padding-bottom: 0.4em;background-color: white;}#sk-container-id-11 div.sk-label label {font-family: monospace;font-weight: bold;display: inline-block;line-height: 1.2em;}#sk-container-id-11 div.sk-label-container {text-align: center;}#sk-container-id-11 div.sk-container {/* jupyter's `normalize.less` sets `[hidden] { display: none; }` but bootstrap.min.css set `[hidden] { display: none !important; }` so we also need the `!important` here to be able to override the default hidden behavior on the sphinx rendered scikit-learn.org. See: https://github.com/scikit-learn/scikit-learn/issues/21755 */display: inline-block !important;position: relative;}#sk-container-id-11 div.sk-text-repr-fallback {display: none;}</style><div id=\"sk-container-id-11\" class=\"sk-top-container\"><div class=\"sk-text-repr-fallback\"><pre>XGBClassifier(base_score=None, booster=None, callbacks=None,\n",
       "              colsample_bylevel=None, colsample_bynode=None,\n",
       "              colsample_bytree=None, device=None, early_stopping_rounds=None,\n",
       "              enable_categorical=False, eval_metric=&#x27;logloss&#x27;,\n",
       "              feature_types=None, gamma=0, grow_policy=None,\n",
       "              importance_type=None, interaction_constraints=None,\n",
       "              learning_rate=0.05, max_bin=None, max_cat_threshold=None,\n",
       "              max_cat_to_onehot=None, max_delta_step=None, max_depth=7,\n",
       "              max_leaves=None, min_child_weight=None, missing=nan,\n",
       "              monotone_constraints=None, multi_strategy=None, n_estimators=None,\n",
       "              n_jobs=None, num_parallel_tree=None, random_state=0, ...)</pre><b>In a Jupyter environment, please rerun this cell to show the HTML representation or trust the notebook. <br />On GitHub, the HTML representation is unable to render, please try loading this page with nbviewer.org.</b></div><div class=\"sk-container\" hidden><div class=\"sk-item\"><div class=\"sk-estimator sk-toggleable\"><input class=\"sk-toggleable__control sk-hidden--visually\" id=\"sk-estimator-id-35\" type=\"checkbox\" checked><label for=\"sk-estimator-id-35\" class=\"sk-toggleable__label sk-toggleable__label-arrow\">XGBClassifier</label><div class=\"sk-toggleable__content\"><pre>XGBClassifier(base_score=None, booster=None, callbacks=None,\n",
       "              colsample_bylevel=None, colsample_bynode=None,\n",
       "              colsample_bytree=None, device=None, early_stopping_rounds=None,\n",
       "              enable_categorical=False, eval_metric=&#x27;logloss&#x27;,\n",
       "              feature_types=None, gamma=0, grow_policy=None,\n",
       "              importance_type=None, interaction_constraints=None,\n",
       "              learning_rate=0.05, max_bin=None, max_cat_threshold=None,\n",
       "              max_cat_to_onehot=None, max_delta_step=None, max_depth=7,\n",
       "              max_leaves=None, min_child_weight=None, missing=nan,\n",
       "              monotone_constraints=None, multi_strategy=None, n_estimators=None,\n",
       "              n_jobs=None, num_parallel_tree=None, random_state=0, ...)</pre></div></div></div></div></div>"
      ],
      "text/plain": [
       "XGBClassifier(base_score=None, booster=None, callbacks=None,\n",
       "              colsample_bylevel=None, colsample_bynode=None,\n",
       "              colsample_bytree=None, device=None, early_stopping_rounds=None,\n",
       "              enable_categorical=False, eval_metric='logloss',\n",
       "              feature_types=None, gamma=0, grow_policy=None,\n",
       "              importance_type=None, interaction_constraints=None,\n",
       "              learning_rate=0.05, max_bin=None, max_cat_threshold=None,\n",
       "              max_cat_to_onehot=None, max_delta_step=None, max_depth=7,\n",
       "              max_leaves=None, min_child_weight=None, missing=nan,\n",
       "              monotone_constraints=None, multi_strategy=None, n_estimators=None,\n",
       "              n_jobs=None, num_parallel_tree=None, random_state=0, ...)"
      ]
     },
     "execution_count": 645,
     "metadata": {},
     "output_type": "execute_result"
    }
   ],
   "source": [
    "# Melihat pipeline model\n",
    "nama_model = model_ft.loc['xgb','Param']['xgb']\n",
    "nama_model"
   ]
  },
  {
   "cell_type": "code",
   "execution_count": 648,
   "metadata": {
    "id": "WGFGlPII-DBW",
    "tags": []
   },
   "outputs": [
    {
     "data": {
      "text/plain": [
       "city_development_index    0.064085\n",
       "training_hours            0.003910\n",
       "city_city_10              0.000000\n",
       "city_city_100             0.008097\n",
       "city_city_101             0.004334\n",
       "                            ...   \n",
       "last_new_job_2            0.003566\n",
       "last_new_job_3            0.003930\n",
       "last_new_job_4            0.006147\n",
       "last_new_job_>4           0.004115\n",
       "last_new_job_never        0.011176\n",
       "Length: 180, dtype: float32"
      ]
     },
     "execution_count": 648,
     "metadata": {},
     "output_type": "execute_result"
    }
   ],
   "source": [
    "# Menghitung importances\n",
    "modelku = model_ft.loc['xgb','Param']\n",
    "nama_feature = []\n",
    "fitur = modelku['preprocessing'].get_feature_names_out()\n",
    "for i in fitur:\n",
    "    if 'numerik' in i:\n",
    "        nama_feature.append(i.replace('preprocessing numerik__',''))\n",
    "    else:\n",
    "        nama_feature.append(i.replace('preprocessing kategori__',''))\n",
    "\n",
    "importances = nama_model.feature_importances_\n",
    "importances = pd.Series(importances, index=nama_feature)\n",
    "importances"
   ]
  },
  {
   "cell_type": "code",
   "execution_count": 650,
   "metadata": {
    "id": "cUOQ24YX-DBW",
    "tags": []
   },
   "outputs": [
    {
     "data": {
      "image/png": "[encoded data removed]",
      "text/plain": [
       "<Figure size 2700x500 with 1 Axes>"
      ]
     },
     "metadata": {},
     "output_type": "display_data"
    }
   ],
   "source": [
    "# Melakukan plotting\n",
    "fig, ax = plt.subplots(figsize = (27,5))\n",
    "importances.sort_values(ascending=False).plot.bar(ax=ax)\n",
    "ax.set_title('Plot Feature Importance Setiap Feature')\n",
    "ax.set_ylabel('Mean decrease impurity')\n",
    "fig.tight_layout()"
   ]
  },
  {
   "cell_type": "markdown",
   "metadata": {
    "id": "7WtvL2y_-DBW"
   },
   "source": [
    "<br>"
   ]
  },
  {
   "cell_type": "markdown",
   "metadata": {
    "id": "t-P68Mum-DBW"
   },
   "source": [
    "<br>"
   ]
  },
  {
   "cell_type": "markdown",
   "metadata": {
    "id": "oESjLb8q-DBW"
   },
   "source": [
    "### 5.12 Model Multi Layer Perceptron"
   ]
  },
  {
   "cell_type": "code",
   "execution_count": null,
   "metadata": {
    "id": "1M4kxfKB-DBW"
   },
   "outputs": [],
   "source": [
    "# Melihat pipeline model\n",
    "nama_model = model_ft.loc['mlp','Param']['mlp']\n",
    "nama_model"
   ]
  },
  {
   "cell_type": "code",
   "execution_count": null,
   "metadata": {
    "id": "JPA6AnZB-DBW"
   },
   "outputs": [],
   "source": [
    "# Fitting menggunakan shap\n",
    "explainer = shap.Explainer(nama_model.predict, X_test)\n",
    "shap_values = explainer(X_test)"
   ]
  },
  {
   "cell_type": "code",
   "execution_count": null,
   "metadata": {
    "id": "6R-zJ--8-DBW"
   },
   "outputs": [],
   "source": [
    "# Plotting barplot\n",
    "shap.plots.bar(shap_values)"
   ]
  },
  {
   "cell_type": "code",
   "execution_count": null,
   "metadata": {
    "id": "PVBmoAR5-DBW"
   },
   "outputs": [],
   "source": [
    "# Ringkasan dan penjelasan\n",
    "shap.summary_plot(shap_values)"
   ]
  },
  {
   "cell_type": "code",
   "execution_count": null,
   "metadata": {},
   "outputs": [],
   "source": []
  }
 ],
 "metadata": {
  "colab": {
   "provenance": []
  },
  "kernelspec": {
   "display_name": "Python 3 (ipykernel)",
   "language": "python",
   "name": "python3"
  },
  "language_info": {
   "codemirror_mode": {
    "name": "ipython",
    "version": 3
   },
   "file_extension": ".py",
   "mimetype": "text/x-python",
   "name": "python",
   "nbconvert_exporter": "python",
   "pygments_lexer": "ipython3",
   "version": "3.11.5"
  }
 },
 "nbformat": 4,
 "nbformat_minor": 4
}
